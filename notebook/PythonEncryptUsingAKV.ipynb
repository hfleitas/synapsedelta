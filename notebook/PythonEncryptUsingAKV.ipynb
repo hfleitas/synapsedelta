{
    "metadata": {
        "kernelspec": {
            "name": "python3",
            "display_name": "Python 3",
            "language": "python"
        },
        "language_info": {
            "name": "python",
            "version": "3.8.10",
            "mimetype": "text/x-python",
            "codemirror_mode": {
                "name": "ipython",
                "version": 3
            },
            "pygments_lexer": "ipython3",
            "nbconvert_exporter": "python",
            "file_extension": ".py"
        }
    },
    "nbformat_minor": 2,
    "nbformat": 4,
    "cells": [
        {
            "cell_type": "code",
            "source": [
                "pip install azure-identity"
            ],
            "metadata": {
                "azdata_cell_guid": "b4acbd0f-0c7a-421c-a63c-9c23ec05c47e"
            },
            "outputs": [
                {
                    "name": "stdout",
                    "text": "Collecting azure-identity\n  Using cached azure_identity-1.7.1-py2.py3-none-any.whl (129 kB)\nRequirement already satisfied: six>=1.12.0 in c:\\users\\hiramfleitas\\appdata\\roaming\\python\\python38\\site-packages (from azure-identity) (1.16.0)\nCollecting msal-extensions~=0.3.0\n  Using cached msal_extensions-0.3.1-py2.py3-none-any.whl (18 kB)\nCollecting msal<2.0.0,>=1.12.0\n  Using cached msal-1.16.0-py2.py3-none-any.whl (78 kB)\nCollecting azure-core<2.0.0,>=1.11.0\n  Using cached azure_core-1.21.1-py2.py3-none-any.whl (178 kB)\nRequirement already satisfied: cryptography>=2.5 in c:\\users\\hiramfleitas\\appdata\\roaming\\python\\python38\\site-packages (from azure-identity) (3.2.1)\nRequirement already satisfied: requests>=2.18.4 in c:\\users\\hiramfleitas\\appdata\\roaming\\python\\python38\\site-packages (from azure-core<2.0.0,>=1.11.0->azure-identity) (2.26.0)\nRequirement already satisfied: cffi!=1.11.3,>=1.8 in c:\\users\\hiramfleitas\\appdata\\roaming\\python\\python38\\site-packages (from cryptography>=2.5->azure-identity) (1.14.6)\nRequirement already satisfied: pycparser in c:\\users\\hiramfleitas\\appdata\\roaming\\python\\python38\\site-packages (from cffi!=1.11.3,>=1.8->cryptography>=2.5->azure-identity) (2.20)\nCollecting PyJWT[crypto]<3,>=1.0.0\n  Using cached PyJWT-2.3.0-py3-none-any.whl (16 kB)\nCollecting portalocker<3,>=1.6\n  Using cached portalocker-2.3.2-py2.py3-none-any.whl (15 kB)\nRequirement already satisfied: pywin32>=226 in c:\\users\\hiramfleitas\\appdata\\roaming\\python\\python38\\site-packages (from portalocker<3,>=1.6->msal-extensions~=0.3.0->azure-identity) (301)\nCollecting cryptography>=2.5\n  Using cached cryptography-36.0.1-cp36-abi3-win_amd64.whl (2.2 MB)\nRequirement already satisfied: charset-normalizer~=2.0.0 in c:\\users\\hiramfleitas\\appdata\\roaming\\python\\python38\\site-packages (from requests>=2.18.4->azure-core<2.0.0,>=1.11.0->azure-identity) (2.0.4)\nRequirement already satisfied: urllib3<1.27,>=1.21.1 in c:\\users\\hiramfleitas\\appdata\\roaming\\python\\python38\\site-packages (from requests>=2.18.4->azure-core<2.0.0,>=1.11.0->azure-identity) (1.26.6)\nRequirement already satisfied: certifi>=2017.4.17 in c:\\users\\hiramfleitas\\appdata\\roaming\\python\\python38\\site-packages (from requests>=2.18.4->azure-core<2.0.0,>=1.11.0->azure-identity) (2021.5.30)\nRequirement already satisfied: idna<4,>=2.5 in c:\\users\\hiramfleitas\\appdata\\roaming\\python\\python38\\site-packages (from requests>=2.18.4->azure-core<2.0.0,>=1.11.0->azure-identity) (3.2)\nInstalling collected packages: PyJWT, cryptography, portalocker, msal, msal-extensions, azure-core, azure-identity\n  Attempting uninstall: cryptography\n    Found existing installation: cryptography 3.2.1\n    Uninstalling cryptography-3.2.1:\n      Successfully uninstalled cryptography-3.2.1\nSuccessfully installed PyJWT-2.3.0 azure-core-1.21.1 azure-identity-1.7.1 cryptography-36.0.1 msal-1.16.0 msal-extensions-0.3.1 portalocker-2.3.2\nNote: you may need to restart the kernel to use updated packages.\n",
                    "output_type": "stream"
                },
                {
                    "name": "stderr",
                    "text": "WARNING: You are using pip version 21.1.1; however, version 21.3.1 is available.\nYou should consider upgrading via the 'C:\\Users\\hiramfleitas\\azuredatastudio-python\\python.exe -m pip install --upgrade pip' command.\n",
                    "output_type": "stream"
                }
            ],
            "execution_count": 2
        },
        {
            "cell_type": "code",
            "source": [
                "pip install --upgrade pip"
            ],
            "metadata": {
                "azdata_cell_guid": "360b01d5-507c-487b-979a-a946b5eebdf8"
            },
            "outputs": [
                {
                    "name": "stdout",
                    "text": "Requirement already satisfied: pip in c:\\users\\hiramfleitas\\azuredatastudio-python\\lib\\site-packages (21.1.1)\nCollecting pip\n  Using cached pip-21.3.1-py3-none-any.whl (1.7 MB)\nInstalling collected packages: pip\n  Attempting uninstall: pip\n    Found existing installation: pip 21.1.1\n    Uninstalling pip-21.1.1:\n      Successfully uninstalled pip-21.1.1\nSuccessfully installed pip-21.3.1\nNote: you may need to restart the kernel to use updated packages.\n",
                    "output_type": "stream"
                }
            ],
            "execution_count": 3
        },
        {
            "cell_type": "code",
            "source": [
                "pip install azure-keyvault-secrets"
            ],
            "metadata": {
                "azdata_cell_guid": "ea02cc1b-0659-4531-9800-29ae884716d1"
            },
            "outputs": [
                {
                    "name": "stdout",
                    "text": "Collecting azure-keyvault-secrets\n  Using cached azure_keyvault_secrets-4.3.0-py2.py3-none-any.whl (233 kB)\nRequirement already satisfied: azure-core<2.0.0,>=1.7.0 in c:\\users\\hiramfleitas\\azuredatastudio-python\\lib\\site-packages (from azure-keyvault-secrets) (1.21.1)\nCollecting azure-common~=1.1\n  Using cached azure_common-1.1.27-py2.py3-none-any.whl (12 kB)\nCollecting msrest>=0.6.21\n  Using cached msrest-0.6.21-py2.py3-none-any.whl (85 kB)\nRequirement already satisfied: requests>=2.18.4 in c:\\users\\hiramfleitas\\appdata\\roaming\\python\\python38\\site-packages (from azure-core<2.0.0,>=1.7.0->azure-keyvault-secrets) (2.26.0)\nRequirement already satisfied: six>=1.11.0 in c:\\users\\hiramfleitas\\appdata\\roaming\\python\\python38\\site-packages (from azure-core<2.0.0,>=1.7.0->azure-keyvault-secrets) (1.16.0)\nRequirement already satisfied: certifi>=2017.4.17 in c:\\users\\hiramfleitas\\appdata\\roaming\\python\\python38\\site-packages (from msrest>=0.6.21->azure-keyvault-secrets) (2021.5.30)\nCollecting isodate>=0.6.0\n  Using cached isodate-0.6.1-py2.py3-none-any.whl (41 kB)\nCollecting requests-oauthlib>=0.5.0\n  Using cached requests_oauthlib-1.3.0-py2.py3-none-any.whl (23 kB)\nRequirement already satisfied: charset-normalizer~=2.0.0 in c:\\users\\hiramfleitas\\appdata\\roaming\\python\\python38\\site-packages (from requests>=2.18.4->azure-core<2.0.0,>=1.7.0->azure-keyvault-secrets) (2.0.4)\nRequirement already satisfied: idna<4,>=2.5 in c:\\users\\hiramfleitas\\appdata\\roaming\\python\\python38\\site-packages (from requests>=2.18.4->azure-core<2.0.0,>=1.7.0->azure-keyvault-secrets) (3.2)\nRequirement already satisfied: urllib3<1.27,>=1.21.1 in c:\\users\\hiramfleitas\\appdata\\roaming\\python\\python38\\site-packages (from requests>=2.18.4->azure-core<2.0.0,>=1.7.0->azure-keyvault-secrets) (1.26.6)\nCollecting oauthlib>=3.0.0\n  Using cached oauthlib-3.1.1-py2.py3-none-any.whl (146 kB)\nInstalling collected packages: oauthlib, requests-oauthlib, isodate, msrest, azure-common, azure-keyvault-secrets\nSuccessfully installed azure-common-1.1.27 azure-keyvault-secrets-4.3.0 isodate-0.6.1 msrest-0.6.21 oauthlib-3.1.1 requests-oauthlib-1.3.0\nNote: you may need to restart the kernel to use updated packages.\n",
                    "output_type": "stream"
                }
            ],
            "execution_count": 4
        },
        {
            "cell_type": "markdown",
            "source": [
                "[Quickstart – Azure Key Vault Python client library – manage secrets | Microsoft Docs](https://docs.microsoft.com/en-us/azure/key-vault/secrets/quick-create-python)\n",
                "\n",
                "[azure.keyvault.keys.crypto.CryptographyClient class | Microsoft Docs](https://docs.microsoft.com/en-us/python/api/azure-keyvault-keys/azure.keyvault.keys.crypto.cryptographyclient?view=azure-python)\n",
                "\n",
                "[Tutorial - Encrypt and decrypt blobs using Azure Key Vault - Azure Storage | Microsoft Docs](https://docs.microsoft.com/en-us/azure/storage/blobs/storage-encrypt-decrypt-blobs-key-vault?tabs=dotnet)"
            ],
            "metadata": {
                "azdata_cell_guid": "7a67bb9f-b0fa-41df-a60c-d4fae9661d77"
            },
            "attachments": {}
        },
        {
            "cell_type": "code",
            "source": [
                ""
            ],
            "metadata": {
                "azdata_cell_guid": "2697ad76-2cbd-4717-860d-68a6d31a2c39"
            },
            "outputs": [],
            "execution_count": null
        }
    ]
}