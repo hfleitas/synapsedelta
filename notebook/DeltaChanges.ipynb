{
  "nbformat": 4,
  "nbformat_minor": 2,
  "metadata": {
    "kernelspec": {
      "name": "synapse_spark",
      "display_name": "Synapse Spark"
    },
    "language_info": {
      "name": "scala"
    },
    "save_output": true,
    "synapse_widget": {
      "version": "0.1",
      "state": {}
    }
  },
  "cells": [
    {
      "cell_type": "code",
      "execution_count": 1,
      "outputs": [],
      "metadata": {},
      "source": [
        "case class Data(key: String, value: String)\r\n",
        "\r\n",
        "case class ChangeData(key: String, newValue: String, deleted: Boolean, time: Long) {\r\n",
        "  assert(newValue != null ^ deleted)\r\n",
        "}"
      ]
    },
    {
      "cell_type": "code",
      "execution_count": 2,
      "outputs": [],
      "metadata": {
        "jupyter": {
          "source_hidden": false,
          "outputs_hidden": false
        },
        "nteract": {
          "transient": {
            "deleting": false
          }
        },
        "collapsed": true
      },
      "source": [
        "val changeDataSource = Seq(\n",
        "  ChangeData(\"a\", \"10\", deleted = false, time = 0),\n",
        "  ChangeData(\"a\", null, deleted = true, time = 1),   // a was updated and then deleted\n",
        "  ChangeData(\"b\", null, deleted = true, time = 2),   // b was just deleted once\n",
        "  ChangeData(\"c\", null, deleted = true, time = 3),   // c was deleted and then updated twice\n",
        "  ChangeData(\"c\", \"20\", deleted = false, time = 4),\n",
        "  ChangeData(\"c\", \"200\", deleted = false, time = 5)\n",
        ").toDF().createOrReplaceTempView(\"changes\")\n",
        "\n",
        "// read from last checkpoint \n",
        "\n",
        "// val changeDataSource = Seq(\n",
        "//   ChangeData(\"d\", \"82\", deleted = false, time = 6),\n",
        "//   ChangeData(\"e\", \"19\", deleted = false, time = 7),\n",
        "//   ChangeData(\"f\", \"12\", deleted = false, time = 8),\n",
        "//   ChangeData(\"g\", null, deleted = true, time = 9),\n",
        "//   ChangeData(\"d\", \"21\", deleted = false, time = 10)\n",
        "// ).toDF().createOrReplaceTempView(\"changes\")"
      ]
    },
    {
      "cell_type": "code",
      "execution_count": 3,
      "outputs": [],
      "metadata": {
        "jupyter": {
          "source_hidden": false,
          "outputs_hidden": false
        },
        "nteract": {
          "transient": {
            "deleting": false
          }
        },
        "collapsed": true
      },
      "source": [
        "val changesDF = spark.sql(\"select * from changes\")"
      ]
    },
    {
      "cell_type": "code",
      "execution_count": 5,
      "outputs": [],
      "metadata": {
        "jupyter": {
          "source_hidden": false,
          "outputs_hidden": false
        },
        "nteract": {
          "transient": {
            "deleting": false
          }
        },
        "collapsed": true
      },
      "source": [
        "val latestChangeForEachKey = changesDF.selectExpr(\"key\", \"struct(time, newValue, deleted) as otherCols\").groupBy(\"key\").agg(max(\"otherCols\").as(\"latest\")).selectExpr(\"key\", \"latest.*\")\r\n",
        "latestChangeForEachKey.show()"
      ]
    },
    {
      "cell_type": "code",
      "execution_count": 6,
      "outputs": [],
      "metadata": {
        "jupyter": {
          "source_hidden": false,
          "outputs_hidden": false
        },
        "nteract": {
          "transient": {
            "deleting": false
          }
        },
        "collapsed": true
      },
      "source": [
        "latestChangeForEachKey.createOrReplaceTempView(\"lastchanges\")"
      ]
    },
    {
      "cell_type": "code",
      "execution_count": 7,
      "outputs": [],
      "metadata": {
        "jupyter": {
          "source_hidden": false,
          "outputs_hidden": false
        },
        "nteract": {
          "transient": {
            "deleting": false
          }
        },
        "collapsed": true
      },
      "source": [
        "latestChangeForEachKey.write.format(\"delta\").mode(\"overwrite\").saveAsTable(\"lastchanges\") "
      ]
    }
  ]
}