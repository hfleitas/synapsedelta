{
  "cells": [
    {
      "cell_type": "markdown",
      "source": [
        "# Delta Demo\r\n",
        "\r\n",
        "1.\tSpark, scala delta, apis, sql magics - merge (see [this notebook](https://github.com/hfleitas/synapsedelta/blob/main/notebook/DeltaChanges3.json))\r\n",
        "2.\tServerless, credentials, open query (see sql [script](https://github.com/hfleitas/synapsedelta/blob/main/sqlscript/DeltaServerless.json))\r\n",
        "3.\tIntegration pipeline, copy activity with overwrite if exists (see [pipeline](https://github.com/hfleitas/synapsedelta/blob/main/pipeline/Delta-Import.json))\r\n",
        "4.\tSql pools - merge (see sql [script](https://github.com/hfleitas/synapsedelta/blob/main/sqlscript/DeltaSQLPoolMerge.json))"
      ],
      "metadata": {
        "nteract": {
          "transient": {
            "deleting": false
          }
        }
      }
    },
    {
      "cell_type": "code",
      "source": [
        "spark.version"
      ],
      "outputs": [
        {
          "output_type": "display_data",
          "data": {
            "application/vnd.livy.statement-meta+json": {
              "spark_pool": "threedot0",
              "session_id": 7,
              "statement_id": 1,
              "state": "finished",
              "livy_statement_state": "available",
              "queued_time": "2021-10-26T01:59:45.2065536Z",
              "session_start_time": "2021-10-26T01:59:45.2442086Z",
              "execution_start_time": "2021-10-26T02:01:53.1732639Z",
              "execution_finish_time": "2021-10-26T02:01:53.680473Z"
            },
            "text/plain": "StatementMeta(threedot0, 7, 1, Finished, Available)"
          },
          "metadata": {}
        },
        {
          "output_type": "stream",
          "name": "stdout",
          "text": [
            "res5: String = 3.1.2.5.0-49430596\n"
          ]
        }
      ],
      "execution_count": 16,
      "metadata": {
        "jupyter": {
          "source_hidden": false,
          "outputs_hidden": false
        },
        "nteract": {
          "transient": {
            "deleting": false
          }
        },
        "collapsed": true
      }
    },
    {
      "cell_type": "code",
      "source": [
        "case class Data(key: String, value: String)\r\n",
        "\r\n",
        "case class ChangeData(key: String, newValue: String, deleted: Boolean, time: Long) {\r\n",
        "  assert(newValue != null ^ deleted)\r\n",
        "}"
      ],
      "outputs": [
        {
          "output_type": "display_data",
          "data": {
            "application/vnd.livy.statement-meta+json": {
              "spark_pool": "threedot0",
              "session_id": 8,
              "statement_id": 4,
              "state": "finished",
              "livy_statement_state": "available",
              "queued_time": "2021-10-26T16:51:34.6191887Z",
              "session_start_time": null,
              "execution_start_time": "2021-10-26T16:51:34.7270431Z",
              "execution_finish_time": "2021-10-26T16:51:35.7802467Z"
            },
            "text/plain": "StatementMeta(threedot0, 8, 4, Finished, Available)"
          },
          "metadata": {}
        },
        {
          "output_type": "stream",
          "name": "stdout",
          "text": [
            "defined class Data\ndefined class ChangeData\n"
          ]
        }
      ],
      "execution_count": 55,
      "metadata": {}
    },
    {
      "cell_type": "code",
      "source": [
        "val target = Seq(\r\n",
        "  Data(\"a\", \"0\"),\r\n",
        "  Data(\"b\", \"1\"),\r\n",
        "  Data(\"c\", \"2\"),\r\n",
        "  Data(\"d\", \"3\")\r\n",
        ").toDF()"
      ],
      "outputs": [
        {
          "output_type": "display_data",
          "data": {
            "application/vnd.livy.statement-meta+json": {
              "spark_pool": "threedot0",
              "session_id": 8,
              "statement_id": 5,
              "state": "finished",
              "livy_statement_state": "available",
              "queued_time": "2021-10-26T16:51:37.0978043Z",
              "session_start_time": null,
              "execution_start_time": "2021-10-26T16:51:37.2943348Z",
              "execution_finish_time": "2021-10-26T16:51:39.1114212Z"
            },
            "text/plain": "StatementMeta(threedot0, 8, 5, Finished, Available)"
          },
          "metadata": {}
        },
        {
          "output_type": "stream",
          "name": "stdout",
          "text": [
            "target: org.apache.spark.sql.DataFrame = [key: string, value: string]\n"
          ]
        }
      ],
      "execution_count": 56,
      "metadata": {
        "jupyter": {
          "source_hidden": false,
          "outputs_hidden": false
        },
        "nteract": {
          "transient": {
            "deleting": false
          }
        },
        "collapsed": true
      }
    },
    {
      "cell_type": "code",
      "source": [
        "sql(\"drop table if exists target\")\r\n",
        "target.write.format(\"delta\").mode(\"overwrite\").saveAsTable(\"target\")"
      ],
      "outputs": [
        {
          "output_type": "display_data",
          "data": {
            "application/vnd.livy.statement-meta+json": {
              "spark_pool": "threedot0",
              "session_id": 8,
              "statement_id": 6,
              "state": "finished",
              "livy_statement_state": "available",
              "queued_time": "2021-10-26T16:51:41.1072036Z",
              "session_start_time": null,
              "execution_start_time": "2021-10-26T16:51:41.2052643Z",
              "execution_finish_time": "2021-10-26T16:51:51.8088806Z"
            },
            "text/plain": "StatementMeta(threedot0, 8, 6, Finished, Available)"
          },
          "metadata": {}
        },
        {
          "output_type": "stream",
          "name": "stdout",
          "text": [
            "res7: org.apache.spark.sql.DataFrame = []\n"
          ]
        }
      ],
      "execution_count": 57,
      "metadata": {
        "jupyter": {
          "source_hidden": false,
          "outputs_hidden": false
        },
        "nteract": {
          "transient": {
            "deleting": false
          }
        },
        "collapsed": true
      }
    },
    {
      "cell_type": "code",
      "source": [
        "// import com.microsoft.spark.sqlanalytics.utils.Constants\r\n",
        "// import org.apache.spark.sql.SqlAnalyticsConnector._\r\n",
        "\r\n",
        "val targetDF = spark.sqlContext.sql(\"select * from target\")"
      ],
      "outputs": [
        {
          "output_type": "display_data",
          "data": {
            "application/vnd.livy.statement-meta+json": {
              "spark_pool": "threedot0",
              "session_id": 8,
              "statement_id": 7,
              "state": "finished",
              "livy_statement_state": "available",
              "queued_time": "2021-10-26T16:52:06.2275844Z",
              "session_start_time": null,
              "execution_start_time": "2021-10-26T16:52:06.3273129Z",
              "execution_finish_time": "2021-10-26T16:52:07.3516094Z"
            },
            "text/plain": "StatementMeta(threedot0, 8, 7, Finished, Available)"
          },
          "metadata": {}
        },
        {
          "output_type": "stream",
          "name": "stdout",
          "text": [
            "targetDF: org.apache.spark.sql.DataFrame = [key: string, value: string]\n"
          ]
        }
      ],
      "execution_count": 58,
      "metadata": {
        "jupyter": {
          "source_hidden": false,
          "outputs_hidden": false
        },
        "nteract": {
          "transient": {
            "deleting": false
          }
        },
        "collapsed": true
      }
    },
    {
      "cell_type": "code",
      "source": [
        "%%sql\r\n",
        "select * from target order by key"
      ],
      "outputs": [
        {
          "output_type": "display_data",
          "data": {
            "application/vnd.livy.statement-meta+json": {
              "spark_pool": "threedot0",
              "session_id": 8,
              "statement_id": 8,
              "state": "finished",
              "livy_statement_state": "available",
              "queued_time": "2021-10-26T16:52:13.2352194Z",
              "session_start_time": null,
              "execution_start_time": "2021-10-26T16:52:13.3353975Z",
              "execution_finish_time": "2021-10-26T16:52:15.1390407Z"
            },
            "text/plain": "StatementMeta(threedot0, 8, 8, Finished, Available)"
          },
          "metadata": {}
        },
        {
          "output_type": "execute_result",
          "execution_count": 59,
          "data": {
            "application/vnd.synapse.sparksql-result+json": {
              "schema": {
                "type": "struct",
                "fields": [
                  {
                    "name": "key",
                    "type": "string",
                    "nullable": true,
                    "metadata": {}
                  },
                  {
                    "name": "value",
                    "type": "string",
                    "nullable": true,
                    "metadata": {}
                  }
                ]
              },
              "data": [
                [
                  "a",
                  "0"
                ],
                [
                  "b",
                  "1"
                ],
                [
                  "c",
                  "2"
                ],
                [
                  "d",
                  "3"
                ]
              ]
            },
            "text/plain": "<Spark SQL result set with 4 rows and 2 fields>"
          },
          "metadata": {}
        }
      ],
      "execution_count": 59,
      "metadata": {
        "jupyter": {
          "source_hidden": false,
          "outputs_hidden": false
        },
        "nteract": {
          "transient": {
            "deleting": false
          }
        },
        "microsoft": {
          "language": "sparksql"
        },
        "collapsed": false
      }
    },
    {
      "cell_type": "code",
      "source": [
        "%%sql\r\n",
        "describe extended target"
      ],
      "outputs": [
        {
          "output_type": "display_data",
          "data": {
            "application/vnd.livy.statement-meta+json": {
              "spark_pool": "threedot0",
              "session_id": 8,
              "statement_id": 9,
              "state": "finished",
              "livy_statement_state": "available",
              "queued_time": "2021-10-26T16:52:17.2741943Z",
              "session_start_time": null,
              "execution_start_time": "2021-10-26T16:52:17.3726685Z",
              "execution_finish_time": "2021-10-26T16:52:17.8896942Z"
            },
            "text/plain": "StatementMeta(threedot0, 8, 9, Finished, Available)"
          },
          "metadata": {}
        },
        {
          "output_type": "execute_result",
          "execution_count": 60,
          "data": {
            "application/vnd.synapse.sparksql-result+json": {
              "schema": {
                "type": "struct",
                "fields": [
                  {
                    "name": "col_name",
                    "type": "string",
                    "nullable": false,
                    "metadata": {
                      "comment": "name of the column"
                    }
                  },
                  {
                    "name": "data_type",
                    "type": "string",
                    "nullable": false,
                    "metadata": {
                      "comment": "data type of the column"
                    }
                  },
                  {
                    "name": "comment",
                    "type": "string",
                    "nullable": true,
                    "metadata": {
                      "comment": "comment of the column"
                    }
                  }
                ]
              },
              "data": [
                [
                  "key",
                  "string",
                  ""
                ],
                [
                  "value",
                  "string",
                  ""
                ],
                [
                  "",
                  "",
                  ""
                ],
                [
                  "# Partitioning",
                  "",
                  ""
                ],
                [
                  "Not partitioned",
                  "",
                  ""
                ],
                [
                  "",
                  "",
                  ""
                ],
                [
                  "# Detailed Table Information",
                  "",
                  ""
                ],
                [
                  "Name",
                  "default.target",
                  ""
                ],
                [
                  "Location",
                  "abfss://wplushiramsynapsefs@wplushiramsynapseadlsv2.dfs.core.windows.net/synapse/workspaces/wplushiramsynapse/warehouse/target",
                  ""
                ],
                [
                  "Provider",
                  "delta",
                  ""
                ],
                [
                  "Table Properties",
                  "[Type=MANAGED,delta.minReaderVersion=1,delta.minWriterVersion=2]",
                  ""
                ]
              ]
            },
            "text/plain": "<Spark SQL result set with 11 rows and 3 fields>"
          },
          "metadata": {}
        }
      ],
      "execution_count": 60,
      "metadata": {
        "jupyter": {
          "source_hidden": false,
          "outputs_hidden": false
        },
        "nteract": {
          "transient": {
            "deleting": false
          }
        },
        "microsoft": {
          "language": "sparksql"
        },
        "collapsed": false
      }
    },
    {
      "cell_type": "markdown",
      "source": [
        "# 🧂 Shake it up"
      ],
      "metadata": {
        "nteract": {
          "transient": {
            "deleting": false
          }
        }
      }
    },
    {
      "cell_type": "code",
      "source": [
        "val changeDataSource = Seq(\r\n",
        "  ChangeData(\"a\", \"10\", deleted = false, time = 0),\r\n",
        "  ChangeData(\"a\", null, deleted = true, time = 1),   // a was updated and then deleted\r\n",
        "  ChangeData(\"b\", null, deleted = true, time = 2),   // b was just deleted once\r\n",
        "  ChangeData(\"c\", null, deleted = true, time = 3),   // c was deleted and then updated twice\r\n",
        "  ChangeData(\"c\", \"20\", deleted = false, time = 4),\r\n",
        "  ChangeData(\"c\", \"200\", deleted = false, time = 5)\r\n",
        ").toDF().createOrReplaceTempView(\"changes\")"
      ],
      "outputs": [
        {
          "output_type": "display_data",
          "data": {
            "application/vnd.livy.statement-meta+json": {
              "spark_pool": "threedot0",
              "session_id": 8,
              "statement_id": 10,
              "state": "finished",
              "livy_statement_state": "available",
              "queued_time": "2021-10-26T16:52:22.2359591Z",
              "session_start_time": null,
              "execution_start_time": "2021-10-26T16:52:22.3377699Z",
              "execution_finish_time": "2021-10-26T16:52:23.4221487Z"
            },
            "text/plain": "StatementMeta(threedot0, 8, 10, Finished, Available)"
          },
          "metadata": {}
        },
        {
          "output_type": "stream",
          "name": "stdout",
          "text": [
            "changeDataSource: Unit = ()\n"
          ]
        }
      ],
      "execution_count": 61,
      "metadata": {
        "jupyter": {
          "source_hidden": false,
          "outputs_hidden": false
        },
        "nteract": {
          "transient": {
            "deleting": false
          }
        },
        "collapsed": true
      }
    },
    {
      "cell_type": "markdown",
      "source": [
        "### SQL Example"
      ],
      "metadata": {
        "nteract": {
          "transient": {
            "deleting": false
          }
        }
      }
    },
    {
      "cell_type": "code",
      "source": [
        "%%sql \r\n",
        "MERGE INTO target t\r\n",
        "USING (\r\n",
        "  -- Find the latest change for each key based on the timestamp\r\n",
        "  SELECT key, latest.newValue as newValue, latest.deleted as deleted FROM (    \r\n",
        "    -- Note: For nested structs, max on struct is computed as \r\n",
        "    -- max on first struct field, if equal fall back to second fields, and so on.\r\n",
        "    SELECT key, max(struct(time, newValue, deleted)) as latest FROM changes GROUP BY key\r\n",
        "  )\r\n",
        ") s\r\n",
        "ON s.key = t.key\r\n",
        "WHEN MATCHED AND s.deleted = true THEN DELETE\r\n",
        "WHEN MATCHED THEN UPDATE SET key = s.key, value = s.newValue\r\n",
        "WHEN NOT MATCHED AND s.deleted = false THEN INSERT (key, value) VALUES (key, newValue)"
      ],
      "outputs": [
        {
          "output_type": "display_data",
          "data": {
            "application/vnd.livy.statement-meta+json": {
              "spark_pool": "threedot0",
              "session_id": 8,
              "statement_id": 11,
              "state": "finished",
              "livy_statement_state": "available",
              "queued_time": "2021-10-26T16:52:27.1098476Z",
              "session_start_time": null,
              "execution_start_time": "2021-10-26T16:52:27.2090459Z",
              "execution_finish_time": "2021-10-26T16:52:35.999257Z"
            },
            "text/plain": "StatementMeta(threedot0, 8, 11, Finished, Available)"
          },
          "metadata": {}
        },
        {
          "output_type": "execute_result",
          "execution_count": 62,
          "data": {
            "application/vnd.synapse.sparksql-result+json": {
              "schema": {
                "type": "struct",
                "fields": []
              },
              "data": []
            },
            "text/plain": "<Spark SQL result set with 0 rows and 0 fields>"
          },
          "metadata": {}
        }
      ],
      "execution_count": 62,
      "metadata": {
        "jupyter": {
          "source_hidden": false,
          "outputs_hidden": false
        },
        "nteract": {
          "transient": {
            "deleting": false
          }
        },
        "microsoft": {
          "language": "sparksql"
        },
        "collapsed": false
      }
    },
    {
      "cell_type": "code",
      "source": [
        "val changesDF = spark.sql(\"select * from changes\")\r\n",
        "changesDF.head()"
      ],
      "outputs": [
        {
          "output_type": "display_data",
          "data": {
            "application/vnd.livy.statement-meta+json": {
              "spark_pool": "threedot0",
              "session_id": 8,
              "statement_id": 12,
              "state": "finished",
              "livy_statement_state": "available",
              "queued_time": "2021-10-26T16:52:41.0423148Z",
              "session_start_time": null,
              "execution_start_time": "2021-10-26T16:52:41.1558772Z",
              "execution_finish_time": "2021-10-26T16:52:41.6703012Z"
            },
            "text/plain": "StatementMeta(threedot0, 8, 12, Finished, Available)"
          },
          "metadata": {}
        },
        {
          "output_type": "stream",
          "name": "stdout",
          "text": [
            "changesDF: org.apache.spark.sql.DataFrame = [key: string, newValue: string ... 2 more fields]\nres12: org.apache.spark.sql.Row = [a,10,false,0]\n"
          ]
        }
      ],
      "execution_count": 63,
      "metadata": {
        "jupyter": {
          "source_hidden": false,
          "outputs_hidden": false
        },
        "nteract": {
          "transient": {
            "deleting": false
          }
        },
        "collapsed": true
      }
    },
    {
      "cell_type": "code",
      "source": [
        "val latestChangeForEachKey = changesDF.\r\n",
        "selectExpr(\"key\", \"struct(time, newValue, deleted) as otherCols\").\r\n",
        "groupBy(\"key\").\r\n",
        "agg(max(\"otherCols\").\r\n",
        "as(\"latest\")).\r\n",
        "selectExpr(\"key\", \"latest.*\")"
      ],
      "outputs": [
        {
          "output_type": "display_data",
          "data": {
            "application/vnd.livy.statement-meta+json": {
              "spark_pool": "threedot0",
              "session_id": 8,
              "statement_id": 13,
              "state": "finished",
              "livy_statement_state": "available",
              "queued_time": "2021-10-26T16:52:44.753212Z",
              "session_start_time": null,
              "execution_start_time": "2021-10-26T16:52:44.8902877Z",
              "execution_finish_time": "2021-10-26T16:52:45.3873264Z"
            },
            "text/plain": "StatementMeta(threedot0, 8, 13, Finished, Available)"
          },
          "metadata": {}
        },
        {
          "output_type": "stream",
          "name": "stdout",
          "text": [
            "latestChangeForEachKey: org.apache.spark.sql.DataFrame = [key: string, time: bigint ... 2 more fields]\n"
          ]
        }
      ],
      "execution_count": 64,
      "metadata": {
        "jupyter": {
          "source_hidden": false,
          "outputs_hidden": false
        },
        "nteract": {
          "transient": {
            "deleting": false
          }
        },
        "collapsed": true
      }
    },
    {
      "cell_type": "code",
      "source": [
        "latestChangeForEachKey.show() // shows the latest change for each key"
      ],
      "outputs": [
        {
          "output_type": "display_data",
          "data": {
            "application/vnd.livy.statement-meta+json": {
              "spark_pool": "threedot0",
              "session_id": 8,
              "statement_id": 14,
              "state": "finished",
              "livy_statement_state": "available",
              "queued_time": "2021-10-26T16:52:49.8483338Z",
              "session_start_time": null,
              "execution_start_time": "2021-10-26T16:52:49.9515693Z",
              "execution_finish_time": "2021-10-26T16:52:50.997872Z"
            },
            "text/plain": "StatementMeta(threedot0, 8, 14, Finished, Available)"
          },
          "metadata": {}
        },
        {
          "output_type": "stream",
          "name": "stdout",
          "text": [
            "+---+----+--------+-------+\n|key|time|newValue|deleted|\n+---+----+--------+-------+\n|  c|   5|     200|  false|\n|  b|   2|    null|   true|\n|  a|   1|    null|   true|\n+---+----+--------+-------+\n\n"
          ]
        }
      ],
      "execution_count": 65,
      "metadata": {
        "jupyter": {
          "source_hidden": false,
          "outputs_hidden": false
        },
        "nteract": {
          "transient": {
            "deleting": false
          }
        },
        "collapsed": true
      }
    },
    {
      "cell_type": "code",
      "source": [
        "latestChangeForEachKey.createOrReplaceTempView(\"lastchanges\")"
      ],
      "outputs": [
        {
          "output_type": "display_data",
          "data": {
            "application/vnd.livy.statement-meta+json": {
              "spark_pool": "threedot0",
              "session_id": 8,
              "statement_id": 15,
              "state": "finished",
              "livy_statement_state": "available",
              "queued_time": "2021-10-26T16:52:55.0925755Z",
              "session_start_time": null,
              "execution_start_time": "2021-10-26T16:52:55.1891698Z",
              "execution_finish_time": "2021-10-26T16:52:55.6964843Z"
            },
            "text/plain": "StatementMeta(threedot0, 8, 15, Finished, Available)"
          },
          "metadata": {}
        }
      ],
      "execution_count": 66,
      "metadata": {
        "jupyter": {
          "source_hidden": false,
          "outputs_hidden": false
        },
        "nteract": {
          "transient": {
            "deleting": false
          }
        },
        "collapsed": true
      }
    },
    {
      "cell_type": "code",
      "source": [
        "%%sql\r\n",
        "select * from lastchanges"
      ],
      "outputs": [
        {
          "output_type": "display_data",
          "data": {
            "application/vnd.livy.statement-meta+json": {
              "spark_pool": "threedot0",
              "session_id": 8,
              "statement_id": 16,
              "state": "finished",
              "livy_statement_state": "available",
              "queued_time": "2021-10-26T16:52:59.3934202Z",
              "session_start_time": null,
              "execution_start_time": "2021-10-26T16:52:59.494308Z",
              "execution_finish_time": "2021-10-26T16:53:00.5398502Z"
            },
            "text/plain": "StatementMeta(threedot0, 8, 16, Finished, Available)"
          },
          "metadata": {}
        },
        {
          "output_type": "execute_result",
          "execution_count": 67,
          "data": {
            "application/vnd.synapse.sparksql-result+json": {
              "schema": {
                "type": "struct",
                "fields": [
                  {
                    "name": "key",
                    "type": "string",
                    "nullable": true,
                    "metadata": {}
                  },
                  {
                    "name": "time",
                    "type": "long",
                    "nullable": true,
                    "metadata": {}
                  },
                  {
                    "name": "newValue",
                    "type": "string",
                    "nullable": true,
                    "metadata": {}
                  },
                  {
                    "name": "deleted",
                    "type": "boolean",
                    "nullable": true,
                    "metadata": {}
                  }
                ]
              },
              "data": [
                [
                  "c",
                  5,
                  "200",
                  false
                ],
                [
                  "b",
                  2,
                  null,
                  true
                ],
                [
                  "a",
                  1,
                  null,
                  true
                ]
              ]
            },
            "text/plain": "<Spark SQL result set with 3 rows and 4 fields>"
          },
          "metadata": {}
        }
      ],
      "execution_count": 67,
      "metadata": {
        "jupyter": {
          "source_hidden": false,
          "outputs_hidden": false
        },
        "nteract": {
          "transient": {
            "deleting": false
          }
        },
        "microsoft": {
          "language": "sparksql"
        },
        "collapsed": false
      }
    },
    {
      "cell_type": "code",
      "source": [
        "latestChangeForEachKey.write.format(\"delta\").mode(\"overwrite\").saveAsTable(\"lastchanges\") "
      ],
      "outputs": [
        {
          "output_type": "display_data",
          "data": {
            "application/vnd.livy.statement-meta+json": {
              "spark_pool": "threedot0",
              "session_id": 8,
              "statement_id": 17,
              "state": "finished",
              "livy_statement_state": "available",
              "queued_time": "2021-10-26T16:53:24.9131291Z",
              "session_start_time": null,
              "execution_start_time": "2021-10-26T16:53:25.0334029Z",
              "execution_finish_time": "2021-10-26T16:53:33.5933873Z"
            },
            "text/plain": "StatementMeta(threedot0, 8, 17, Finished, Available)"
          },
          "metadata": {}
        }
      ],
      "execution_count": 68,
      "metadata": {
        "jupyter": {
          "source_hidden": false,
          "outputs_hidden": false
        },
        "nteract": {
          "transient": {
            "deleting": false
          }
        },
        "collapsed": true
      }
    },
    {
      "cell_type": "markdown",
      "source": [
        "### SCALA Merge example (Skipped)"
      ],
      "metadata": {
        "nteract": {
          "transient": {
            "deleting": false
          }
        }
      }
    },
    {
      "cell_type": "code",
      "source": [
        "// deltaTable.as(\"t\")\r\n",
        "//   .merge(\r\n",
        "//     latestChangeForEachKey.as(\"s\"),\r\n",
        "//     \"s.key = t.key\")\r\n",
        "//   .whenMatched(\"s.deleted = true\")\r\n",
        "//   .delete()\r\n",
        "//   .whenMatched()\r\n",
        "//   .updateExpr(Map(\"key\" -> \"s.key\", \"value\" -> \"s.newValue\"))\r\n",
        "//   .whenNotMatched(\"s.deleted = false\")\r\n",
        "//   .insertExpr(Map(\"key\" -> \"s.key\", \"value\" -> \"s.newValue\"))\r\n",
        "//   .execute()"
      ],
      "outputs": [],
      "execution_count": 16,
      "metadata": {
        "jupyter": {
          "source_hidden": false,
          "outputs_hidden": false
        },
        "nteract": {
          "transient": {
            "deleting": false
          }
        },
        "collapsed": true
      }
    },
    {
      "cell_type": "code",
      "source": [
        "import com.microsoft.spark.sqlanalytics.utils.Constants\r\n",
        "import org.apache.spark.sql.SqlAnalyticsConnector._\r\n",
        "\r\n",
        "val lastchangesDF = spark.sqlContext.sql(\"select * from lastchanges\")\r\n",
        "\r\n",
        "lastchangesDF.write.option(Constants.\r\n",
        "SERVER, \"wplushiramsynapse.sql.azuresynapse.net\").\r\n",
        "synapsesql(\"wplussynapsedw.dbo.lastchanges\", Constants.INTERNAL)"
      ],
      "outputs": [
        {
          "output_type": "display_data",
          "data": {
            "application/vnd.livy.statement-meta+json": {
              "spark_pool": "threedot0",
              "session_id": 8,
              "statement_id": 19,
              "state": "finished",
              "livy_statement_state": "available",
              "queued_time": "2021-10-26T17:06:35.6314974Z",
              "session_start_time": null,
              "execution_start_time": "2021-10-26T17:06:35.7813153Z",
              "execution_finish_time": "2021-10-26T17:06:54.5494728Z"
            },
            "text/plain": "StatementMeta(threedot0, 8, 19, Finished, Available)"
          },
          "metadata": {}
        },
        {
          "output_type": "stream",
          "name": "stdout",
          "text": [
            "import com.microsoft.spark.sqlanalytics.utils.Constants\nimport org.apache.spark.sql.SqlAnalyticsConnector._\nlastchangesDF: org.apache.spark.sql.DataFrame = [key: string, time: bigint ... 2 more fields]\n"
          ]
        }
      ],
      "execution_count": 70,
      "metadata": {
        "jupyter": {
          "source_hidden": false,
          "outputs_hidden": false
        },
        "nteract": {
          "transient": {
            "deleting": false
          }
        },
        "collapsed": true
      }
    },
    {
      "cell_type": "markdown",
      "source": [
        "## Resources\r\n",
        "* https://docs.databricks.com/_static/notebooks/merge-in-cdc.html\r\n",
        "* https://techcommunity.microsoft.com/t5/azure-synapse-analytics/query-delta-lake-files-using-t-sql-language-in-azure-synapse/ba-p/2388398\r\n",
        "* https://docs.microsoft.com/en-us/azure/synapse-analytics/sql/query-delta-lake-format\r\n",
        "* https://databricks.com/blog/2019/03/19/efficient-upserts-into-data-lakes-databricks-delta.html\r\n",
        "* https://docs.microsoft.com/en-us/sql/t-sql/statements/merge-transact-sql?view=azure-sqldw-latest\r\n",
        "* https://databricks.com/blog/2019/02/04/introducing-delta-time-travel-for-large-scale-data-lakes.html\r\n",
        "* https://docs.microsoft.com/en-us/azure/synapse-analytics/sql-data-warehouse/sql-data-warehouse-develop-ctas\r\n",
        "* https://www.mssqltips.com/sqlservertip/6282/azure-data-factory-multiple-file-load-example-part-2/"
      ],
      "metadata": {
        "nteract": {
          "transient": {
            "deleting": false
          }
        }
      }
    }
  ],
  "metadata": {
    "kernelspec": {
      "name": "synapse_pyspark",
      "language": "Python",
      "display_name": "Synapse PySpark"
    },
    "language_info": {
      "name": "scala"
    },
    "kernel_info": {
      "name": "synapse_pyspark"
    },
    "save_output": true,
    "synapse_widget": {
      "version": "0.1",
      "state": {}
    }
  },
  "nbformat": 4,
  "nbformat_minor": 2
}