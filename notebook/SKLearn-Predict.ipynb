{
  "cells": [
    {
      "cell_type": "code",
      "source": [
        "import fsspec\r\n",
        "import pandas\r\n",
        "from fsspec.core import split_protocol\r\n",
        "\r\n",
        "fsspec_handle = fsspec.open('abfss://wplushiramsynapsefs@wplushiramsynapseadlsv2.dfs.core.windows.net/dominicks_OJ_train.csv')\r\n",
        "\r\n",
        "with fsspec_handle.open() as f:\r\n",
        "    train_df = pandas.read_csv(f)"
      ],
      "outputs": [
        {
          "output_type": "display_data",
          "data": {
            "application/vnd.livy.statement-meta+json": {
              "spark_pool": "threedot0",
              "session_id": 22,
              "statement_id": 1,
              "state": "finished",
              "livy_statement_state": "available",
              "queued_time": "2021-11-18T00:51:07.5456582Z",
              "session_start_time": "2021-11-18T00:51:07.5818662Z",
              "execution_start_time": "2021-11-18T00:52:32.7713026Z",
              "execution_finish_time": "2021-11-18T00:52:41.3417542Z"
            },
            "text/plain": "StatementMeta(threedot0, 22, 1, Finished, Available)"
          },
          "metadata": {}
        }
      ],
      "execution_count": 1,
      "metadata": {}
    },
    {
      "cell_type": "code",
      "source": [
        "import os\r\n",
        "import shutil\r\n",
        "import mlflow\r\n",
        "import json\r\n",
        "from mlflow.utils import model_utils\r\n",
        "import numpy as np\r\n",
        "import pandas as pd\r\n",
        "from sklearn.linear_model import LinearRegression\r\n",
        "\r\n",
        "class LinearRegressionModel():\r\n",
        "    _ARGS_FILENAME = 'args.json'\r\n",
        "    FEATURES_KEY = 'features'\r\n",
        "    TARGETS_KEY = 'targets'\r\n",
        "    TARGETS_PRED_KEY = 'targets_pred'\r\n",
        "\r\n",
        "def __init__(self, fit_intercept, nb_input_features=9, nb_output_features=1):\r\n",
        "    self.fit_intercept = fit_intercept\r\n",
        "    self.nb_input_features = nb_input_features\r\n",
        "    self.nb_output_features = nb_output_features\r\n",
        "\r\n",
        "def get_args(self):\r\n",
        "    args = {\r\n",
        "        'nb_input_features': self.nb_input_features,\r\n",
        "        'nb_output_features': self.nb_output_features,\r\n",
        "        'fit_intercept': self.fit_intercept\r\n",
        "    }\r\n",
        "    return args\r\n",
        "\r\n",
        "def create_model(self):\r\n",
        "    self.model = LinearRegression(fit_intercept=self.fit_intercept)\r\n",
        "\r\n",
        "def train(self, dataset):\r\n",
        "    features = np.stack([sample for sample in iter(\r\n",
        "        dataset[LinearRegressionModel.FEATURES_KEY])], axis=0)\r\n",
        "    targets = np.stack([sample for sample in iter(\r\n",
        "        dataset[LinearRegressionModel.TARGETS_KEY])], axis=0)\r\n",
        "    self.model.fit(features, targets)\r\n",
        "\r\n",
        "def predict(self, dataset):\r\n",
        "    features = np.stack([sample for sample in iter(\r\n",
        "        dataset[LinearRegressionModel.FEATURES_KEY])], axis=0)\r\n",
        "    targets_pred = self.model.predict(features)\r\n",
        "    return targets_pred\r\n",
        "\r\n",
        "def save(self, path):\r\n",
        "    if os.path.exists(path):\r\n",
        "        shutil.rmtree(path)\r\n",
        "    mlflow.sklearn.save_model(self.model, path)\r\n",
        "    self._save_args(path)\r\n",
        "\r\n",
        "def _save_args(self, path):\r\n",
        "    args_filename = os.path.join(path, LinearRegressionModel._ARGS_FILENAME)\r\n",
        "    with open(args_filename, 'w') as f:\r\n",
        "        args = self.get_args()\r\n",
        "        json.dump(args, f)\r\n",
        "\r\n",
        "def train(train_df, output_model_path):\r\n",
        "    print(f\"Start to train LinearRegressionModel.\")\r\n",
        "\r\n",
        "    dataset = train_df.to_numpy()\r\n",
        "    datasets = {}\r\n",
        "    datasets['targets'] = dataset[:, -1]\r\n",
        "    datasets['features'] = dataset[:, :9]\r\n",
        "\r\n",
        "    model_class = LinearRegressionModel(fit_intercept=10)\r\n",
        "    with mlflow.start_run(nested=True) as run:\r\n",
        "        model_class.create_model()\r\n",
        "        model_class.train(datasets)\r\n",
        "        model_class.save(output_model_path)\r\n",
        "        print(model_class.predict(datasets))\r\n",
        "\r\n",
        "train(train_df, './artifacts/output')\r\n"
      ],
      "outputs": [
        {
          "output_type": "display_data",
          "data": {
            "application/vnd.livy.statement-meta+json": {
              "spark_pool": "threedot0",
              "session_id": 22,
              "statement_id": 2,
              "state": "finished",
              "livy_statement_state": "available",
              "queued_time": "2021-11-18T00:51:07.551045Z",
              "session_start_time": null,
              "execution_start_time": "2021-11-18T00:52:41.4492369Z",
              "execution_finish_time": "2021-11-18T00:52:48.2874172Z"
            },
            "text/plain": "StatementMeta(threedot0, 22, 2, Finished, Available)"
          },
          "metadata": {}
        },
        {
          "output_type": "error",
          "ename": "TypeError",
          "evalue": "LinearRegressionModel() takes no arguments",
          "traceback": [
            "TypeError: LinearRegressionModel() takes no arguments",
            "Traceback (most recent call last):\n",
            "  File \"<stdin>\", line 65, in train\n",
            "TypeError: LinearRegressionModel() takes no arguments\n"
          ]
        }
      ],
      "execution_count": 2,
      "metadata": {
        "jupyter": {
          "source_hidden": false,
          "outputs_hidden": false
        },
        "nteract": {
          "transient": {
            "deleting": false
          }
        }
      }
    },
    {
      "cell_type": "code",
      "source": [],
      "outputs": [],
      "execution_count": null,
      "metadata": {
        "jupyter": {
          "source_hidden": false,
          "outputs_hidden": false
        },
        "nteract": {
          "transient": {
            "deleting": false
          }
        }
      }
    }
  ],
  "metadata": {
    "kernelspec": {
      "name": "synapse_pyspark",
      "language": "Python",
      "display_name": "Synapse PySpark"
    },
    "language_info": {
      "name": "python"
    },
    "kernel_info": {
      "name": "synapse_pyspark"
    },
    "save_output": true,
    "synapse_widget": {
      "version": "0.1",
      "state": {}
    }
  },
  "nbformat": 4,
  "nbformat_minor": 2
}