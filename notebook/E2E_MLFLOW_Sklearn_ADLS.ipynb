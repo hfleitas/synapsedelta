{
  "cells": [
    {
      "cell_type": "markdown",
      "source": [
        "# Linear Regression (Sklearn)"
      ],
      "metadata": {}
    },
    {
      "cell_type": "markdown",
      "source": [
        "This tutorial shows how to use Predict on a Sklearn model."
      ],
      "metadata": {}
    },
    {
      "cell_type": "markdown",
      "source": [
        "## Train SKLearn Model"
      ],
      "metadata": {
        "nteract": {
          "transient": {
            "deleting": false
          }
        }
      }
    },
    {
      "cell_type": "code",
      "source": [
        "import fsspec\n",
        "import pandas\n",
        "\n",
        "adls_account_name = 'ajagarwdemoadlsg2' #Provide exact ADLS account name\n",
        "adls_account_key = '####' #Provide exact ADLS account key\n",
        "\n",
        "fsspec_handle = fsspec.open('abfs://ajagarwfs/predict/dataset/LengthOfStay_cooked_small.csv', account_name=adls_account_name, account_key=adls_account_key)\n",
        "\n",
        "with fsspec_handle.open() as f:\n",
        "    train_df = pandas.read_csv(f)"
      ],
      "outputs": [
        {
          "output_type": "display_data",
          "data": {
            "application/vnd.livy.statement-meta+json": {
              "spark_pool": "demosprkpool",
              "session_id": 44,
              "statement_id": 1,
              "state": "finished",
              "livy_statement_state": "available",
              "queued_time": "2021-10-15T12:40:00.8369864Z",
              "session_start_time": "2021-10-15T12:40:00.8733436Z",
              "execution_start_time": "2021-10-15T12:40:43.3785566Z",
              "execution_finish_time": "2021-10-15T12:40:44.4182309Z"
            },
            "text/plain": "StatementMeta(demosprkpool, 44, 1, Finished, Available)"
          },
          "metadata": {}
        }
      ],
      "execution_count": 1,
      "metadata": {
        "jupyter": {
          "source_hidden": false,
          "outputs_hidden": false
        },
        "nteract": {
          "transient": {
            "deleting": false
          }
        }
      }
    },
    {
      "cell_type": "code",
      "source": [
        "import os\n",
        "import shutil\n",
        "import mlflow\n",
        "import json\n",
        "from mlflow.utils import model_utils\n",
        "\n",
        "import numpy as np\n",
        "import pandas as pd\n",
        "\n",
        "from sklearn.linear_model import LinearRegression\n",
        "\n",
        "\n",
        "class LinearRegressionModel():\n",
        "  _ARGS_FILENAME = 'args.json'\n",
        "  FEATURES_KEY = 'features'\n",
        "  TARGETS_KEY = 'targets'\n",
        "  TARGETS_PRED_KEY = 'targets_pred'\n",
        "\n",
        "  def __init__(self, fit_intercept, nb_input_features=9, nb_output_features=1):\n",
        "    self.fit_intercept = fit_intercept\n",
        "    self.nb_input_features = nb_input_features\n",
        "    self.nb_output_features = nb_output_features\n",
        "\n",
        "  def get_args(self):\n",
        "    args = {\n",
        "        'nb_input_features': self.nb_input_features,\n",
        "        'nb_output_features': self.nb_output_features,\n",
        "        'fit_intercept': self.fit_intercept\n",
        "    }\n",
        "    return args\n",
        "\n",
        "  def create_model(self):\n",
        "    self.model = LinearRegression(fit_intercept=self.fit_intercept)\n",
        "\n",
        "  def train(self, dataset):\n",
        "\n",
        "    features = np.stack([sample for sample in iter(\n",
        "        dataset[LinearRegressionModel.FEATURES_KEY])], axis=0)\n",
        "\n",
        "    targets = np.stack([sample for sample in iter(\n",
        "        dataset[LinearRegressionModel.TARGETS_KEY])], axis=0)\n",
        "\n",
        "\n",
        "    self.model.fit(features, targets)\n",
        "\n",
        "  def predict(self, dataset):\n",
        "    features = np.stack([sample for sample in iter(\n",
        "        dataset[LinearRegressionModel.FEATURES_KEY])], axis=0)\n",
        "    targets_pred = self.model.predict(features)\n",
        "    return targets_pred\n",
        "\n",
        "  def save(self, path):\n",
        "    if os.path.exists(path):\n",
        "      shutil.rmtree(path)\n",
        "\n",
        "    # save the sklearn model with mlflow\n",
        "    mlflow.sklearn.save_model(self.model, path)\n",
        "\n",
        "    # save args\n",
        "    self._save_args(path)\n",
        "\n",
        "  def _save_args(self, path):\n",
        "    args_filename = os.path.join(path, LinearRegressionModel._ARGS_FILENAME)\n",
        "    with open(args_filename, 'w') as f:\n",
        "      args = self.get_args()\n",
        "      json.dump(args, f)\n",
        "\n",
        "\n",
        "def train(train_df, output_model_path):\n",
        "  print(f\"Start to train LinearRegressionModel.\")\n",
        "\n",
        "  # Initialize input dataset\n",
        "  dataset = train_df.to_numpy()\n",
        "  datasets = {}\n",
        "  datasets['targets'] = dataset[:, -1]\n",
        "  datasets['features'] = dataset[:, :9]\n",
        "\n",
        "  # Initialize model class obj\n",
        "  model_class = LinearRegressionModel(fit_intercept=10)\n",
        "  with mlflow.start_run(nested=True) as run:\n",
        "    model_class.create_model()\n",
        "    model_class.train(datasets)\n",
        "    model_class.save(output_model_path)\n",
        "    print(model_class.predict(datasets))\n",
        "\n",
        "\n",
        "train(train_df, './artifacts/output')"
      ],
      "outputs": [
        {
          "output_type": "display_data",
          "data": {
            "application/vnd.livy.statement-meta+json": {
              "spark_pool": "demosprkpool",
              "session_id": 44,
              "statement_id": 2,
              "state": "finished",
              "livy_statement_state": "available",
              "queued_time": "2021-10-15T12:40:56.6169077Z",
              "session_start_time": null,
              "execution_start_time": "2021-10-15T12:40:56.7235804Z",
              "execution_finish_time": "2021-10-15T12:40:59.4386693Z"
            },
            "text/plain": "StatementMeta(demosprkpool, 44, 2, Finished, Available)"
          },
          "metadata": {}
        },
        {
          "output_type": "stream",
          "name": "stdout",
          "text": [
            "Start to train LinearRegressionModel.\n[1. 7. 2. 2. 2. 1. 7. 2. 2. 2. 1. 7. 2. 2. 2. 1. 7. 2. 2. 2. 1. 7. 2. 2.\n 2. 1. 7. 2. 2. 2.]"
          ]
        }
      ],
      "execution_count": 2,
      "metadata": {
        "jupyter": {
          "source_hidden": false,
          "outputs_hidden": false
        },
        "nteract": {
          "transient": {
            "deleting": false
          }
        }
      }
    },
    {
      "cell_type": "markdown",
      "source": [
        "## Upload to ADLS"
      ],
      "metadata": {
        "nteract": {
          "transient": {
            "deleting": false
          }
        }
      }
    },
    {
      "cell_type": "code",
      "source": [
        "import fsspec\n",
        "import pandas \n",
        "from fsspec.core import split_protocol\n",
        "\n",
        "STORAGE_PATH = 'abfs://ajagarwfs/predict/models/mlflow/sklearn/e2e_linear_regression/'\n",
        "\n",
        "protocol, _ = split_protocol(STORAGE_PATH)\n",
        "print (protocol)\n",
        "adls_account_name = 'ajagarwdemoadlsg2' #Provide exact ADLS account name\n",
        "adls_account_key = '####' #Provide exact ADLS account key\n",
        "storage_options = {\n",
        "    'account_name': adls_account_name,\n",
        "    'account_key': adls_account_key\n",
        "}\n",
        "fs = fsspec.filesystem(protocol, **storage_options)\n",
        "fs.put(\n",
        "    './artifacts/output',\n",
        "    STORAGE_PATH, \n",
        "    recursive=True, overwrite=True)"
      ],
      "outputs": [
        {
          "output_type": "display_data",
          "data": {
            "application/vnd.livy.statement-meta+json": {
              "spark_pool": "demosprkpool",
              "session_id": 44,
              "statement_id": 3,
              "state": "finished",
              "livy_statement_state": "available",
              "queued_time": "2021-10-15T12:41:04.0683671Z",
              "session_start_time": null,
              "execution_start_time": "2021-10-15T12:41:04.1838155Z",
              "execution_finish_time": "2021-10-15T12:41:04.6703349Z"
            },
            "text/plain": "StatementMeta(demosprkpool, 44, 3, Finished, Available)"
          },
          "metadata": {}
        },
        {
          "output_type": "stream",
          "name": "stdout",
          "text": [
            "abfs\n"
          ]
        },
        {
          "output_type": "display_data",
          "data": {
            "text/plain": "[None, None, None, None, None, None]"
          },
          "metadata": {}
        }
      ],
      "execution_count": 3,
      "metadata": {
        "jupyter": {
          "source_hidden": false,
          "outputs_hidden": false
        },
        "nteract": {
          "transient": {
            "deleting": false
          }
        }
      }
    },
    {
      "cell_type": "markdown",
      "source": [
        "### Import SynapseML Predict"
      ],
      "metadata": {}
    },
    {
      "cell_type": "code",
      "source": [
        "import pandas as pd\n",
        "\n",
        "from pyspark.sql import SparkSession\n",
        "from pyspark.sql.functions import col, pandas_udf,udf,lit\n",
        "\n",
        "import azure.synapse.ml.predict as pcontext\n",
        "import azure.synapse.ml.predict.utils._logger as synapse_predict_logger\n",
        "\n",
        "print(pcontext.__version__)"
      ],
      "outputs": [
        {
          "output_type": "display_data",
          "data": {
            "application/vnd.livy.statement-meta+json": {
              "spark_pool": "demosprkpool",
              "session_id": 44,
              "statement_id": 4,
              "state": "finished",
              "livy_statement_state": "available",
              "queued_time": "2021-10-15T12:45:32.6667857Z",
              "session_start_time": null,
              "execution_start_time": "2021-10-15T12:45:32.8278582Z",
              "execution_finish_time": "2021-10-15T12:45:36.6811425Z"
            },
            "text/plain": "StatementMeta(demosprkpool, 44, 4, Finished, Available)"
          },
          "metadata": {}
        },
        {
          "output_type": "stream",
          "name": "stdout",
          "text": [
            "1.0.0"
          ]
        }
      ],
      "execution_count": 4,
      "metadata": {}
    },
    {
      "cell_type": "markdown",
      "source": [
        "### Set some input parameters\r\n",
        "<p>Model and Data are both stored on ADLS<p>\r\n",
        "<p>Return type is int<p>"
      ],
      "metadata": {}
    },
    {
      "cell_type": "code",
      "source": [
        "DATA_FILE = \"abfss://ajagarwfs@ajagarwdemoadlsg2.dfs.core.windows.net/predict/dataset/LengthOfStay_cooked_small.csv\"\n",
        "ADLS_MODEL_URI_SKLEARN = \"abfss://ajagarwfs@ajagarwdemoadlsg2.dfs.core.windows.net/predict/models/mlflow/sklearn/e2e_linear_regression/\"\n",
        "RETURN_TYPES = \"INT\""
      ],
      "outputs": [
        {
          "output_type": "display_data",
          "data": {
            "application/vnd.livy.statement-meta+json": {
              "spark_pool": "demosprkpool",
              "session_id": 44,
              "statement_id": 5,
              "state": "finished",
              "livy_statement_state": "available",
              "queued_time": "2021-10-15T12:46:02.1655027Z",
              "session_start_time": null,
              "execution_start_time": "2021-10-15T12:46:02.2661576Z",
              "execution_finish_time": "2021-10-15T12:46:02.4172102Z"
            },
            "text/plain": "StatementMeta(demosprkpool, 44, 5, Finished, Available)"
          },
          "metadata": {}
        }
      ],
      "execution_count": 5,
      "metadata": {}
    },
    {
      "cell_type": "markdown",
      "source": [
        "### Enable SynapseML predict\r\n",
        "Set the spark conf spark.synapse.ml.predict.enabled as true to enable the library."
      ],
      "metadata": {}
    },
    {
      "cell_type": "code",
      "source": [
        "spark.conf.set(\"spark.synapse.ml.predict.enabled\",\"true\")"
      ],
      "outputs": [
        {
          "output_type": "display_data",
          "data": {
            "application/vnd.livy.statement-meta+json": {
              "spark_pool": "demosprkpool",
              "session_id": 44,
              "statement_id": 6,
              "state": "finished",
              "livy_statement_state": "available",
              "queued_time": "2021-10-15T12:46:05.0274532Z",
              "session_start_time": null,
              "execution_start_time": "2021-10-15T12:46:05.1208584Z",
              "execution_finish_time": "2021-10-15T12:46:05.2612702Z"
            },
            "text/plain": "StatementMeta(demosprkpool, 44, 6, Finished, Available)"
          },
          "metadata": {}
        }
      ],
      "execution_count": 6,
      "metadata": {}
    },
    {
      "cell_type": "markdown",
      "source": [
        "### Bind Model"
      ],
      "metadata": {}
    },
    {
      "cell_type": "code",
      "source": [
        "model = pcontext.bind_model(RETURN_TYPES, \"mlflow\", \"sklearn_linear_regression\", ADLS_MODEL_URI_SKLEARN).register()"
      ],
      "outputs": [
        {
          "output_type": "display_data",
          "data": {
            "application/vnd.livy.statement-meta+json": {
              "spark_pool": "demosprkpool",
              "session_id": 44,
              "statement_id": 7,
              "state": "finished",
              "livy_statement_state": "available",
              "queued_time": "2021-10-15T12:46:08.8229945Z",
              "session_start_time": null,
              "execution_start_time": "2021-10-15T12:46:08.9092252Z",
              "execution_finish_time": "2021-10-15T12:46:15.6909328Z"
            },
            "text/plain": "StatementMeta(demosprkpool, 44, 7, Finished, Available)"
          },
          "metadata": {}
        }
      ],
      "execution_count": 7,
      "metadata": {}
    },
    {
      "cell_type": "markdown",
      "source": [
        "### Load Data"
      ],
      "metadata": {}
    },
    {
      "cell_type": "code",
      "source": [
        "df = spark.read \\\n",
        "    .format(\"csv\") \\\n",
        "    .option(\"header\", \"true\") \\\n",
        "    .csv(DATA_FILE,\n",
        "        inferSchema=True)\n",
        "df = df.select(df.columns[:9])\n",
        "df.createOrReplaceTempView('data')\n",
        "df.show(10)\n",
        "df"
      ],
      "outputs": [
        {
          "output_type": "display_data",
          "data": {
            "application/vnd.livy.statement-meta+json": {
              "spark_pool": "demosprkpool",
              "session_id": 44,
              "statement_id": 8,
              "state": "finished",
              "livy_statement_state": "available",
              "queued_time": "2021-10-15T12:46:42.7537127Z",
              "session_start_time": null,
              "execution_start_time": "2021-10-15T12:46:42.8427723Z",
              "execution_finish_time": "2021-10-15T12:47:00.1625521Z"
            },
            "text/plain": "StatementMeta(demosprkpool, 44, 8, Finished, Available)"
          },
          "metadata": {}
        },
        {
          "output_type": "stream",
          "name": "stdout",
          "text": [
            "+-------------------+------------------+------------------+-----------------+------------------+------------------+------------------+------------------+------------------+\n|         hematocrit|       neutrophils|            sodium|          glucose|    bloodureanitro|        creatinine|               bmi|             pulse|       respiration|\n+-------------------+------------------+------------------+-----------------+------------------+------------------+------------------+------------------+------------------+\n|-0.0425062678333053|-0.144044124667474|  0.22121278292454|-1.06191476900289|-0.153676232509828|-0.102901720870172| 0.880066129351256|0.0557393384330164|0.0175353508059786|\n|  0.303138384392267|  1.78219153507209|-0.568357686732667|  -0.479546395875|-0.303900204562006| -1.18560153346413| 0.735433409953405|  1.09254240594927|0.0175353508059786|\n| -0.289395305137286| -0.38482358213492| -1.68832178164949|0.589228275750129|0.0716597255684404|-0.818583210523663| 0.625518172645604|0.0557393384330164| -1.92609865265919|\n|-0.0425062678333053|-0.144044124667474|-0.823302156166284|0.366310563910808|-0.153676232509828| 0.449993241605108|-0.762316378813419|0.0557393384330164|0.0175353508059786|\n|  -0.48690653498047| 0.244907306626092|-0.312521873662429|-1.39049977280973|-0.153676232509828|  1.20709799785437|-0.448993670933663| -1.32666475158865|0.0175353508059786|\n|-0.0425062678333053|-0.144044124667474|  0.22121278292454|-1.06191476900289|-0.153676232509828|-0.102901720870172| 0.880066129351256|0.0557393384330164|0.0175353508059786|\n|  0.303138384392267|  1.78219153507209|-0.568357686732667|  -0.479546395875|-0.303900204562006| -1.18560153346413| 0.735433409953405|  1.09254240594927|0.0175353508059786|\n| -0.289395305137286| -0.38482358213492| -1.68832178164949|0.589228275750129|0.0716597255684404|-0.818583210523663| 0.625518172645604|0.0557393384330164| -1.92609865265919|\n|-0.0425062678333053|-0.144044124667474|-0.823302156166284|0.366310563910808|-0.153676232509828| 0.449993241605108|-0.762316378813419|0.0557393384330164|0.0175353508059786|\n|  -0.48690653498047| 0.244907306626092|-0.312521873662429|-1.39049977280973|-0.153676232509828|  1.20709799785437|-0.448993670933663| -1.32666475158865|0.0175353508059786|\n+-------------------+------------------+------------------+-----------------+------------------+------------------+------------------+------------------+------------------+\nonly showing top 10 rows\n\n"
          ]
        },
        {
          "output_type": "display_data",
          "data": {
            "text/plain": "DataFrame[hematocrit: double, neutrophils: double, sodium: double, glucose: double, bloodureanitro: double, creatinine: double, bmi: double, pulse: double, respiration: double]"
          },
          "metadata": {}
        }
      ],
      "execution_count": 8,
      "metadata": {}
    },
    {
      "cell_type": "code",
      "source": [
        "spark.sql(\n",
        "    \"\"\"\n",
        "        select * from data\n",
        "    \"\"\"\n",
        ").show()"
      ],
      "outputs": [
        {
          "output_type": "display_data",
          "data": {
            "application/vnd.livy.statement-meta+json": {
              "spark_pool": "demosprkpool",
              "session_id": 44,
              "statement_id": 9,
              "state": "finished",
              "livy_statement_state": "available",
              "queued_time": "2021-10-15T12:47:05.6467549Z",
              "session_start_time": null,
              "execution_start_time": "2021-10-15T12:47:05.7334766Z",
              "execution_finish_time": "2021-10-15T12:47:06.2427308Z"
            },
            "text/plain": "StatementMeta(demosprkpool, 44, 9, Finished, Available)"
          },
          "metadata": {}
        },
        {
          "output_type": "stream",
          "name": "stdout",
          "text": [
            "+-------------------+------------------+------------------+-----------------+------------------+------------------+------------------+------------------+------------------+\n|         hematocrit|       neutrophils|            sodium|          glucose|    bloodureanitro|        creatinine|               bmi|             pulse|       respiration|\n+-------------------+------------------+------------------+-----------------+------------------+------------------+------------------+------------------+------------------+\n|-0.0425062678333053|-0.144044124667474|  0.22121278292454|-1.06191476900289|-0.153676232509828|-0.102901720870172| 0.880066129351256|0.0557393384330164|0.0175353508059786|\n|  0.303138384392267|  1.78219153507209|-0.568357686732667|  -0.479546395875|-0.303900204562006| -1.18560153346413| 0.735433409953405|  1.09254240594927|0.0175353508059786|\n| -0.289395305137286| -0.38482358213492| -1.68832178164949|0.589228275750129|0.0716597255684404|-0.818583210523663| 0.625518172645604|0.0557393384330164| -1.92609865265919|\n|-0.0425062678333053|-0.144044124667474|-0.823302156166284|0.366310563910808|-0.153676232509828| 0.449993241605108|-0.762316378813419|0.0557393384330164|0.0175353508059786|\n|  -0.48690653498047| 0.244907306626092|-0.312521873662429|-1.39049977280973|-0.153676232509828|  1.20709799785437|-0.448993670933663| -1.32666475158865|0.0175353508059786|\n|-0.0425062678333053|-0.144044124667474|  0.22121278292454|-1.06191476900289|-0.153676232509828|-0.102901720870172| 0.880066129351256|0.0557393384330164|0.0175353508059786|\n|  0.303138384392267|  1.78219153507209|-0.568357686732667|  -0.479546395875|-0.303900204562006| -1.18560153346413| 0.735433409953405|  1.09254240594927|0.0175353508059786|\n| -0.289395305137286| -0.38482358213492| -1.68832178164949|0.589228275750129|0.0716597255684404|-0.818583210523663| 0.625518172645604|0.0557393384330164| -1.92609865265919|\n|-0.0425062678333053|-0.144044124667474|-0.823302156166284|0.366310563910808|-0.153676232509828| 0.449993241605108|-0.762316378813419|0.0557393384330164|0.0175353508059786|\n|  -0.48690653498047| 0.244907306626092|-0.312521873662429|-1.39049977280973|-0.153676232509828|  1.20709799785437|-0.448993670933663| -1.32666475158865|0.0175353508059786|\n|-0.0425062678333053|-0.144044124667474|  0.22121278292454|-1.06191476900289|-0.153676232509828|-0.102901720870172| 0.880066129351256|0.0557393384330164|0.0175353508059786|\n|  0.303138384392267|  1.78219153507209|-0.568357686732667|  -0.479546395875|-0.303900204562006| -1.18560153346413| 0.735433409953405|  1.09254240594927|0.0175353508059786|\n| -0.289395305137286| -0.38482358213492| -1.68832178164949|0.589228275750129|0.0716597255684404|-0.818583210523663| 0.625518172645604|0.0557393384330164| -1.92609865265919|\n|-0.0425062678333053|-0.144044124667474|-0.823302156166284|0.366310563910808|-0.153676232509828| 0.449993241605108|-0.762316378813419|0.0557393384330164|0.0175353508059786|\n|  -0.48690653498047| 0.244907306626092|-0.312521873662429|-1.39049977280973|-0.153676232509828|  1.20709799785437|-0.448993670933663| -1.32666475158865|0.0175353508059786|\n|-0.0425062678333053|-0.144044124667474|  0.22121278292454|-1.06191476900289|-0.153676232509828|-0.102901720870172| 0.880066129351256|0.0557393384330164|0.0175353508059786|\n|  0.303138384392267|  1.78219153507209|-0.568357686732667|  -0.479546395875|-0.303900204562006| -1.18560153346413| 0.735433409953405|  1.09254240594927|0.0175353508059786|\n| -0.289395305137286| -0.38482358213492| -1.68832178164949|0.589228275750129|0.0716597255684404|-0.818583210523663| 0.625518172645604|0.0557393384330164| -1.92609865265919|\n|-0.0425062678333053|-0.144044124667474|-0.823302156166284|0.366310563910808|-0.153676232509828| 0.449993241605108|-0.762316378813419|0.0557393384330164|0.0175353508059786|\n|  -0.48690653498047| 0.244907306626092|-0.312521873662429|-1.39049977280973|-0.153676232509828|  1.20709799785437|-0.448993670933663| -1.32666475158865|0.0175353508059786|\n+-------------------+------------------+------------------+-----------------+------------------+------------------+------------------+------------------+------------------+\nonly showing top 20 rows"
          ]
        }
      ],
      "execution_count": 9,
      "metadata": {}
    },
    {
      "cell_type": "markdown",
      "source": [
        "### Model Prediction using SPARK_SQL"
      ],
      "metadata": {}
    },
    {
      "cell_type": "code",
      "source": [
        "predictions = spark.sql(\n",
        "                  \"\"\"\n",
        "                      SELECT PREDICT('sklearn_linear_regression', *) AS predict FROM data\n",
        "                  \"\"\"\n",
        "              ).show()"
      ],
      "outputs": [
        {
          "output_type": "display_data",
          "data": {
            "application/vnd.livy.statement-meta+json": {
              "spark_pool": "demosprkpool",
              "session_id": 44,
              "statement_id": 10,
              "state": "finished",
              "livy_statement_state": "available",
              "queued_time": "2021-10-15T12:47:09.0915632Z",
              "session_start_time": null,
              "execution_start_time": "2021-10-15T12:47:09.1808169Z",
              "execution_finish_time": "2021-10-15T12:47:48.2476301Z"
            },
            "text/plain": "StatementMeta(demosprkpool, 44, 10, Finished, Available)"
          },
          "metadata": {}
        },
        {
          "output_type": "stream",
          "name": "stdout",
          "text": [
            "+-------+\n|predict|\n+-------+\n|      1|\n|      7|\n|      1|\n|      1|\n|      1|\n|      1|\n|      7|\n|      1|\n|      1|\n|      1|\n|      1|\n|      7|\n|      1|\n|      1|\n|      1|\n|      1|\n|      7|\n|      1|\n|      1|\n|      1|\n+-------+\nonly showing top 20 rows"
          ]
        }
      ],
      "execution_count": 10,
      "metadata": {}
    },
    {
      "cell_type": "code",
      "source": [],
      "outputs": [],
      "execution_count": null,
      "metadata": {
        "jupyter": {
          "source_hidden": false,
          "outputs_hidden": false
        },
        "nteract": {
          "transient": {
            "deleting": false
          }
        }
      }
    }
  ],
  "metadata": {
    "kernelspec": {
      "name": "synapse_pyspark",
      "display_name": "Synapse PySpark"
    },
    "language_info": {
      "name": "python"
    },
    "description": null,
    "save_output": true,
    "synapse_widget": {
      "version": "0.1",
      "state": {}
    }
  },
  "nbformat": 4,
  "nbformat_minor": 2
}