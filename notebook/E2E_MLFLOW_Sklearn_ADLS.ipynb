{
  "cells": [
    {
      "cell_type": "markdown",
      "source": [
        "# Linear Regression (Sklearn)\r\n",
        "This tutorial shows how to use Predict on a Sklearn model.\r\n",
        "Duration 00:02:38\r\n",
        "# Train SKLearn Model"
      ],
      "metadata": {
        "nteract": {
          "transient": {
            "deleting": false
          }
        }
      }
    },
    {
      "cell_type": "code",
      "source": [
        "import fsspec\r\n",
        "import pandas\r\n",
        "\r\n",
        "fsspec_handle = fsspec.open('abfss://wplushiramsynapsefs@wplushiramsynapseadlsv2.dfs.core.windows.net/LengthOfStay_cooked_small.csv')\r\n",
        "\r\n",
        "with fsspec_handle.open() as f:\r\n",
        "    train_df = pandas.read_csv(f)"
      ],
      "outputs": [
        {
          "output_type": "display_data",
          "data": {
            "application/vnd.livy.statement-meta+json": {
              "spark_pool": "threemid",
              "session_id": 0,
              "statement_id": 1,
              "state": "finished",
              "livy_statement_state": "available",
              "queued_time": "2021-12-16T03:31:38.9595845Z",
              "session_start_time": "2021-12-16T03:31:39.00168Z",
              "execution_start_time": "2021-12-16T03:34:17.0731311Z",
              "execution_finish_time": "2021-12-16T03:34:27.6835195Z"
            },
            "text/plain": "StatementMeta(threemid, 0, 1, Finished, Available)"
          },
          "metadata": {}
        }
      ],
      "execution_count": 1,
      "metadata": {
        "jupyter": {
          "source_hidden": false,
          "outputs_hidden": false
        },
        "nteract": {
          "transient": {
            "deleting": false
          }
        }
      }
    },
    {
      "cell_type": "code",
      "source": [
        "train_df.head()"
      ],
      "outputs": [
        {
          "output_type": "display_data",
          "data": {
            "application/vnd.livy.statement-meta+json": {
              "spark_pool": "threemid",
              "session_id": 0,
              "statement_id": 2,
              "state": "finished",
              "livy_statement_state": "available",
              "queued_time": "2021-12-16T03:31:38.9672815Z",
              "session_start_time": null,
              "execution_start_time": "2021-12-16T03:34:27.7947129Z",
              "execution_finish_time": "2021-12-16T03:34:27.953128Z"
            },
            "text/plain": "StatementMeta(threemid, 0, 2, Finished, Available)"
          },
          "metadata": {}
        },
        {
          "output_type": "display_data",
          "data": {
            "text/plain": "   hematocrit  neutrophils    sodium  ...  substancedependence  rcount  lengthofstay\n0   -0.042506    -0.144044  0.221213  ...                    0       0             1\n1    0.303138     1.782192 -0.568358  ...                    0       4             7\n2   -0.289395    -0.384824 -1.688322  ...                    0       1             2\n3   -0.042506    -0.144044 -0.823302  ...                    0       1             2\n4   -0.486907     0.244907 -0.312522  ...                    0       0             2\n\n[5 rows x 25 columns]",
            "text/html": "<div>\n<style scoped>\n    .dataframe tbody tr th:only-of-type {\n        vertical-align: middle;\n    }\n\n    .dataframe tbody tr th {\n        vertical-align: top;\n    }\n\n    .dataframe thead th {\n        text-align: right;\n    }\n</style>\n<table border=\"1\" class=\"dataframe\">\n  <thead>\n    <tr style=\"text-align: right;\">\n      <th></th>\n      <th>hematocrit</th>\n      <th>neutrophils</th>\n      <th>sodium</th>\n      <th>glucose</th>\n      <th>bloodureanitro</th>\n      <th>creatinine</th>\n      <th>bmi</th>\n      <th>pulse</th>\n      <th>respiration</th>\n      <th>number_of_issues</th>\n      <th>asthma</th>\n      <th>depress</th>\n      <th>dialysisrenalendstage</th>\n      <th>fibrosisandother</th>\n      <th>gender</th>\n      <th>hemo</th>\n      <th>irondef</th>\n      <th>malnutrition</th>\n      <th>pneum</th>\n      <th>psychologicaldisordermajor</th>\n      <th>psychother</th>\n      <th>secondarydiagnosisnonicd9</th>\n      <th>substancedependence</th>\n      <th>rcount</th>\n      <th>lengthofstay</th>\n    </tr>\n  </thead>\n  <tbody>\n    <tr>\n      <th>0</th>\n      <td>-0.042506</td>\n      <td>-0.144044</td>\n      <td>0.221213</td>\n      <td>-1.061915</td>\n      <td>-0.153676</td>\n      <td>-0.102902</td>\n      <td>0.880066</td>\n      <td>0.055739</td>\n      <td>0.017535</td>\n      <td>0</td>\n      <td>0</td>\n      <td>0</td>\n      <td>0</td>\n      <td>0</td>\n      <td>0</td>\n      <td>0</td>\n      <td>0</td>\n      <td>0</td>\n      <td>0</td>\n      <td>0</td>\n      <td>0</td>\n      <td>10</td>\n      <td>0</td>\n      <td>0</td>\n      <td>1</td>\n    </tr>\n    <tr>\n      <th>1</th>\n      <td>0.303138</td>\n      <td>1.782192</td>\n      <td>-0.568358</td>\n      <td>-0.479546</td>\n      <td>-0.303900</td>\n      <td>-1.185602</td>\n      <td>0.735433</td>\n      <td>1.092542</td>\n      <td>0.017535</td>\n      <td>0</td>\n      <td>0</td>\n      <td>0</td>\n      <td>0</td>\n      <td>0</td>\n      <td>0</td>\n      <td>0</td>\n      <td>0</td>\n      <td>0</td>\n      <td>0</td>\n      <td>0</td>\n      <td>0</td>\n      <td>3</td>\n      <td>0</td>\n      <td>4</td>\n      <td>7</td>\n    </tr>\n    <tr>\n      <th>2</th>\n      <td>-0.289395</td>\n      <td>-0.384824</td>\n      <td>-1.688322</td>\n      <td>0.589228</td>\n      <td>0.071660</td>\n      <td>-0.818583</td>\n      <td>0.625518</td>\n      <td>0.055739</td>\n      <td>-1.926099</td>\n      <td>0</td>\n      <td>0</td>\n      <td>0</td>\n      <td>0</td>\n      <td>0</td>\n      <td>1</td>\n      <td>0</td>\n      <td>0</td>\n      <td>0</td>\n      <td>0</td>\n      <td>0</td>\n      <td>0</td>\n      <td>9</td>\n      <td>0</td>\n      <td>1</td>\n      <td>2</td>\n    </tr>\n    <tr>\n      <th>3</th>\n      <td>-0.042506</td>\n      <td>-0.144044</td>\n      <td>-0.823302</td>\n      <td>0.366311</td>\n      <td>-0.153676</td>\n      <td>0.449993</td>\n      <td>-0.762316</td>\n      <td>0.055739</td>\n      <td>0.017535</td>\n      <td>0</td>\n      <td>0</td>\n      <td>0</td>\n      <td>0</td>\n      <td>0</td>\n      <td>1</td>\n      <td>0</td>\n      <td>0</td>\n      <td>0</td>\n      <td>0</td>\n      <td>0</td>\n      <td>0</td>\n      <td>3</td>\n      <td>0</td>\n      <td>1</td>\n      <td>2</td>\n    </tr>\n    <tr>\n      <th>4</th>\n      <td>-0.486907</td>\n      <td>0.244907</td>\n      <td>-0.312522</td>\n      <td>-1.390500</td>\n      <td>-0.153676</td>\n      <td>1.207098</td>\n      <td>-0.448994</td>\n      <td>-1.326665</td>\n      <td>0.017535</td>\n      <td>0</td>\n      <td>0</td>\n      <td>0</td>\n      <td>0</td>\n      <td>0</td>\n      <td>0</td>\n      <td>0</td>\n      <td>0</td>\n      <td>0</td>\n      <td>0</td>\n      <td>0</td>\n      <td>0</td>\n      <td>1</td>\n      <td>0</td>\n      <td>0</td>\n      <td>2</td>\n    </tr>\n  </tbody>\n</table>\n</div>"
          },
          "metadata": {}
        }
      ],
      "execution_count": 2,
      "metadata": {
        "jupyter": {
          "source_hidden": false,
          "outputs_hidden": false
        },
        "nteract": {
          "transient": {
            "deleting": false
          }
        }
      }
    },
    {
      "cell_type": "code",
      "source": [
        "import os\r\n",
        "import shutil\r\n",
        "import mlflow\r\n",
        "import json\r\n",
        "from mlflow.utils import model_utils\r\n",
        "\r\n",
        "import numpy as np\r\n",
        "import pandas as pd\r\n",
        "\r\n",
        "from sklearn.linear_model import LinearRegression"
      ],
      "outputs": [
        {
          "output_type": "display_data",
          "data": {
            "application/vnd.livy.statement-meta+json": {
              "spark_pool": "threemid",
              "session_id": 0,
              "statement_id": 3,
              "state": "finished",
              "livy_statement_state": "available",
              "queued_time": "2021-12-16T03:31:38.9691302Z",
              "session_start_time": null,
              "execution_start_time": "2021-12-16T03:34:28.0582735Z",
              "execution_finish_time": "2021-12-16T03:34:36.6350846Z"
            },
            "text/plain": "StatementMeta(threemid, 0, 3, Finished, Available)"
          },
          "metadata": {}
        }
      ],
      "execution_count": 3,
      "metadata": {
        "jupyter": {
          "source_hidden": false,
          "outputs_hidden": false
        },
        "nteract": {
          "transient": {
            "deleting": false
          }
        }
      }
    },
    {
      "cell_type": "code",
      "source": [
        "class LinearRegressionModel():\r\n",
        "  _ARGS_FILENAME = 'args.json'\r\n",
        "  FEATURES_KEY = 'features'\r\n",
        "  TARGETS_KEY = 'targets'\r\n",
        "  TARGETS_PRED_KEY = 'targets_pred'\r\n",
        "\r\n",
        "  def __init__(self, fit_intercept, nb_input_features=9, nb_output_features=1):\r\n",
        "    self.fit_intercept = fit_intercept\r\n",
        "    self.nb_input_features = nb_input_features\r\n",
        "    self.nb_output_features = nb_output_features\r\n",
        "\r\n",
        "  def get_args(self):\r\n",
        "    args = {\r\n",
        "        'nb_input_features': self.nb_input_features,\r\n",
        "        'nb_output_features': self.nb_output_features,\r\n",
        "        'fit_intercept': self.fit_intercept\r\n",
        "    }\r\n",
        "    return args\r\n",
        "\r\n",
        "  def create_model(self):\r\n",
        "    self.model = LinearRegression(fit_intercept=self.fit_intercept)\r\n",
        "\r\n",
        "  def train(self, dataset):\r\n",
        "\r\n",
        "    features = np.stack([sample for sample in iter(\r\n",
        "        dataset[LinearRegressionModel.FEATURES_KEY])], axis=0)\r\n",
        "\r\n",
        "    targets = np.stack([sample for sample in iter(\r\n",
        "        dataset[LinearRegressionModel.TARGETS_KEY])], axis=0)\r\n",
        "\r\n",
        "\r\n",
        "    self.model.fit(features, targets)\r\n",
        "\r\n",
        "  def predict(self, dataset):\r\n",
        "    features = np.stack([sample for sample in iter(\r\n",
        "        dataset[LinearRegressionModel.FEATURES_KEY])], axis=0)\r\n",
        "    targets_pred = self.model.predict(features)\r\n",
        "    return targets_pred\r\n",
        "\r\n",
        "  def save(self, path):\r\n",
        "    if os.path.exists(path):\r\n",
        "      shutil.rmtree(path)\r\n",
        "\r\n",
        "    # save the sklearn model with mlflow\r\n",
        "    mlflow.sklearn.save_model(self.model, path)\r\n",
        "\r\n",
        "    # save args\r\n",
        "    self._save_args(path)\r\n",
        "\r\n",
        "  def _save_args(self, path):\r\n",
        "    args_filename = os.path.join(path, LinearRegressionModel._ARGS_FILENAME)\r\n",
        "    with open(args_filename, 'w') as f:\r\n",
        "      args = self.get_args()\r\n",
        "      json.dump(args, f)"
      ],
      "outputs": [
        {
          "output_type": "display_data",
          "data": {
            "application/vnd.livy.statement-meta+json": {
              "spark_pool": "threemid",
              "session_id": 0,
              "statement_id": 4,
              "state": "finished",
              "livy_statement_state": "available",
              "queued_time": "2021-12-16T03:31:38.9742284Z",
              "session_start_time": null,
              "execution_start_time": "2021-12-16T03:34:36.7902193Z",
              "execution_finish_time": "2021-12-16T03:34:36.9422037Z"
            },
            "text/plain": "StatementMeta(threemid, 0, 4, Finished, Available)"
          },
          "metadata": {}
        }
      ],
      "execution_count": 4,
      "metadata": {
        "jupyter": {
          "source_hidden": false,
          "outputs_hidden": false
        },
        "nteract": {
          "transient": {
            "deleting": false
          }
        }
      }
    },
    {
      "cell_type": "code",
      "source": [
        "def train(train_df, output_model_path):\r\n",
        "  print(f\"Start to train LinearRegressionModel.\")\r\n",
        "\r\n",
        "  # Initialize input dataset\r\n",
        "  dataset = train_df.to_numpy()\r\n",
        "  datasets = {}\r\n",
        "  datasets['targets'] = dataset[:, -1]\r\n",
        "  datasets['features'] = dataset[:, :9]\r\n",
        "\r\n",
        "  # Initialize model class obj\r\n",
        "  model_class = LinearRegressionModel(fit_intercept=10)\r\n",
        "  with mlflow.start_run(nested=True) as run:\r\n",
        "    model_class.create_model()\r\n",
        "    model_class.train(datasets)\r\n",
        "    model_class.save(output_model_path)\r\n",
        "    print(model_class.predict(datasets))"
      ],
      "outputs": [
        {
          "output_type": "display_data",
          "data": {
            "application/vnd.livy.statement-meta+json": {
              "spark_pool": "threemid",
              "session_id": 0,
              "statement_id": 5,
              "state": "finished",
              "livy_statement_state": "available",
              "queued_time": "2021-12-16T03:31:38.9768938Z",
              "session_start_time": null,
              "execution_start_time": "2021-12-16T03:34:37.042398Z",
              "execution_finish_time": "2021-12-16T03:34:37.1940748Z"
            },
            "text/plain": "StatementMeta(threemid, 0, 5, Finished, Available)"
          },
          "metadata": {}
        }
      ],
      "execution_count": 5,
      "metadata": {
        "jupyter": {
          "source_hidden": false,
          "outputs_hidden": false
        },
        "nteract": {
          "transient": {
            "deleting": false
          }
        }
      }
    },
    {
      "cell_type": "code",
      "source": [
        "train(train_df, './artifacts/output')"
      ],
      "outputs": [
        {
          "output_type": "display_data",
          "data": {
            "application/vnd.livy.statement-meta+json": {
              "spark_pool": "threemid",
              "session_id": 0,
              "statement_id": 6,
              "state": "finished",
              "livy_statement_state": "available",
              "queued_time": "2021-12-16T03:31:38.9787491Z",
              "session_start_time": null,
              "execution_start_time": "2021-12-16T03:34:37.2928206Z",
              "execution_finish_time": "2021-12-16T03:34:37.7870558Z"
            },
            "text/plain": "StatementMeta(threemid, 0, 6, Finished, Available)"
          },
          "metadata": {}
        },
        {
          "output_type": "stream",
          "name": "stdout",
          "text": [
            "Start to train LinearRegressionModel.\n[1. 7. 2. 2. 2. 1. 7. 2. 2. 2. 1. 7. 2. 2. 2. 1. 7. 2. 2. 2. 1. 7. 2. 2.\n 2. 1. 7. 2. 2. 2.]"
          ]
        }
      ],
      "execution_count": 6,
      "metadata": {
        "jupyter": {
          "source_hidden": false,
          "outputs_hidden": false
        },
        "nteract": {
          "transient": {
            "deleting": false
          }
        }
      }
    },
    {
      "cell_type": "markdown",
      "source": [
        "# Upload to ADLS"
      ],
      "metadata": {
        "nteract": {
          "transient": {
            "deleting": false
          }
        }
      }
    },
    {
      "cell_type": "code",
      "source": [
        "import fsspec\r\n",
        "import pandas \r\n",
        "from fsspec.core import split_protocol\r\n",
        "\r\n",
        "STORAGE_PATH = 'abfs://wplushiramsynapsefs/predict/models/mlflow/sklearn/e2e_linear_regression/'\r\n",
        "\r\n",
        "protocol, _ = split_protocol(STORAGE_PATH)\r\n",
        "print (protocol)\r\n",
        "\r\n",
        "fs = fsspec.filesystem(protocol)\r\n",
        "fs.put(\r\n",
        "    './artifacts/output',\r\n",
        "    STORAGE_PATH, \r\n",
        "    recursive=True, overwrite=True)"
      ],
      "outputs": [
        {
          "output_type": "display_data",
          "data": {
            "application/vnd.livy.statement-meta+json": {
              "spark_pool": "threemid",
              "session_id": 0,
              "statement_id": 7,
              "state": "finished",
              "livy_statement_state": "available",
              "queued_time": "2021-12-16T03:31:38.9815978Z",
              "session_start_time": null,
              "execution_start_time": "2021-12-16T03:34:37.8918914Z",
              "execution_finish_time": "2021-12-16T03:34:39.6814274Z"
            },
            "text/plain": "StatementMeta(threemid, 0, 7, Finished, Available)"
          },
          "metadata": {}
        },
        {
          "output_type": "stream",
          "name": "stdout",
          "text": [
            "abfs\n"
          ]
        },
        {
          "output_type": "display_data",
          "data": {
            "text/plain": "[None, None, None, None, None, None]"
          },
          "metadata": {}
        }
      ],
      "execution_count": 7,
      "metadata": {
        "jupyter": {
          "source_hidden": false,
          "outputs_hidden": false
        },
        "nteract": {
          "transient": {
            "deleting": false
          }
        }
      }
    },
    {
      "cell_type": "markdown",
      "source": [
        "# Import SynapseML Predict"
      ],
      "metadata": {
        "nteract": {
          "transient": {
            "deleting": false
          }
        }
      }
    },
    {
      "cell_type": "code",
      "source": [
        "import pandas as pd\r\n",
        "\r\n",
        "from pyspark.sql import SparkSession\r\n",
        "from pyspark.sql.functions import col, pandas_udf,udf,lit\r\n",
        "\r\n",
        "import azure.synapse.ml.predict as pcontext\r\n",
        "import azure.synapse.ml.predict.utils._logger as synapse_predict_logger\r\n",
        "\r\n",
        "print(pcontext.__version__)"
      ],
      "outputs": [
        {
          "output_type": "display_data",
          "data": {
            "application/vnd.livy.statement-meta+json": {
              "spark_pool": "threemid",
              "session_id": 0,
              "statement_id": 8,
              "state": "submitted",
              "livy_statement_state": "running",
              "queued_time": "2021-12-16T03:31:38.9851945Z",
              "session_start_time": null,
              "execution_start_time": "2021-12-16T03:34:39.7914606Z",
              "execution_finish_time": null
            },
            "text/plain": "StatementMeta(threemid, 0, 8, Submitted, Running)"
          },
          "metadata": {}
        }
      ],
      "execution_count": 8,
      "metadata": {
        "jupyter": {
          "source_hidden": false,
          "outputs_hidden": false
        },
        "nteract": {
          "transient": {
            "deleting": false
          }
        }
      }
    },
    {
      "cell_type": "markdown",
      "source": [
        "# Set some input parameters\r\n",
        "Model and Data are both stored on ADLS. Must use full abfss path, not the mount.\r\n",
        "\r\n",
        "Return type is int"
      ],
      "metadata": {
        "nteract": {
          "transient": {
            "deleting": false
          }
        }
      }
    },
    {
      "cell_type": "code",
      "source": [
        "DATA_FILE = \"abfss://wplushiramsynapsefs@wplushiramsynapseadlsv2.dfs.core.windows.net/LengthOfStay_cooked_small.csv\"\r\n",
        "ADLS_MODEL_URI_SKLEARN = \"abfss://wplushiramsynapsefs@wplushiramsynapseadlsv2.dfs.core.windows.net/predict/models/mlflow/sklearn/e2e_linear_regression/\"\r\n",
        "RETURN_TYPES = \"INT\""
      ],
      "outputs": [
        {
          "output_type": "display_data",
          "data": {
            "application/vnd.livy.statement-meta+json": {
              "spark_pool": null,
              "session_id": null,
              "statement_id": null,
              "state": "waiting",
              "livy_statement_state": null,
              "queued_time": "2021-12-16T03:31:38.988055Z",
              "session_start_time": null,
              "execution_start_time": null,
              "execution_finish_time": null
            },
            "text/plain": "StatementMeta(, , , Waiting, )"
          },
          "metadata": {}
        }
      ],
      "execution_count": null,
      "metadata": {
        "jupyter": {
          "source_hidden": false,
          "outputs_hidden": false
        },
        "nteract": {
          "transient": {
            "deleting": false
          }
        }
      }
    },
    {
      "cell_type": "markdown",
      "source": [
        "# Enable SynapseML predict\r\n",
        "Set the spark conf spark.synapse.ml.predict.enabled as true to enable the library."
      ],
      "metadata": {
        "nteract": {
          "transient": {
            "deleting": false
          }
        }
      }
    },
    {
      "cell_type": "code",
      "source": [
        "spark.conf.set(\"spark.synapse.ml.predict.enabled\",\"true\")"
      ],
      "outputs": [
        {
          "output_type": "display_data",
          "data": {
            "application/vnd.livy.statement-meta+json": {
              "spark_pool": null,
              "session_id": null,
              "statement_id": null,
              "state": "waiting",
              "livy_statement_state": null,
              "queued_time": "2021-12-16T03:31:38.9927891Z",
              "session_start_time": null,
              "execution_start_time": null,
              "execution_finish_time": null
            },
            "text/plain": "StatementMeta(, , , Waiting, )"
          },
          "metadata": {}
        }
      ],
      "execution_count": null,
      "metadata": {
        "jupyter": {
          "source_hidden": false,
          "outputs_hidden": false
        },
        "nteract": {
          "transient": {
            "deleting": false
          }
        }
      }
    },
    {
      "cell_type": "markdown",
      "source": [
        "# Bind Model"
      ],
      "metadata": {
        "nteract": {
          "transient": {
            "deleting": false
          }
        }
      }
    },
    {
      "cell_type": "code",
      "source": [
        "model = pcontext.bind_model(RETURN_TYPES, \"mlflow\", \"sklearn_linear_regression\", ADLS_MODEL_URI_SKLEARN).register()"
      ],
      "outputs": [
        {
          "output_type": "display_data",
          "data": {
            "application/vnd.livy.statement-meta+json": {
              "spark_pool": null,
              "session_id": null,
              "statement_id": null,
              "state": "waiting",
              "livy_statement_state": null,
              "queued_time": "2021-12-16T03:31:39.0009241Z",
              "session_start_time": null,
              "execution_start_time": null,
              "execution_finish_time": null
            },
            "text/plain": "StatementMeta(, , , Waiting, )"
          },
          "metadata": {}
        }
      ],
      "execution_count": null,
      "metadata": {
        "jupyter": {
          "source_hidden": false,
          "outputs_hidden": false
        },
        "nteract": {
          "transient": {
            "deleting": false
          }
        }
      }
    },
    {
      "cell_type": "markdown",
      "source": [
        "# Load Data"
      ],
      "metadata": {
        "nteract": {
          "transient": {
            "deleting": false
          }
        }
      }
    },
    {
      "cell_type": "code",
      "source": [
        "df = spark.read \\\r\n",
        "    .format(\"csv\") \\\r\n",
        "    .option(\"header\", \"true\") \\\r\n",
        "    .csv(DATA_FILE,\r\n",
        "        inferSchema=True)\r\n",
        "df = df.select(df.columns[:9])\r\n",
        "df.createOrReplaceTempView('data')\r\n",
        "df.show(10)\r\n",
        "df"
      ],
      "outputs": [
        {
          "output_type": "display_data",
          "data": {
            "application/vnd.livy.statement-meta+json": {
              "spark_pool": null,
              "session_id": null,
              "statement_id": null,
              "state": "waiting",
              "livy_statement_state": null,
              "queued_time": "2021-12-16T03:31:39.0048256Z",
              "session_start_time": null,
              "execution_start_time": null,
              "execution_finish_time": null
            },
            "text/plain": "StatementMeta(, , , Waiting, )"
          },
          "metadata": {}
        }
      ],
      "execution_count": null,
      "metadata": {
        "jupyter": {
          "source_hidden": false,
          "outputs_hidden": false
        },
        "nteract": {
          "transient": {
            "deleting": false
          }
        }
      }
    },
    {
      "cell_type": "code",
      "source": [
        "%%sql \r\n",
        "select * from data"
      ],
      "outputs": [
        {
          "output_type": "display_data",
          "data": {
            "application/vnd.livy.statement-meta+json": {
              "spark_pool": null,
              "session_id": null,
              "statement_id": null,
              "state": "waiting",
              "livy_statement_state": null,
              "queued_time": "2021-12-16T03:31:39.0069171Z",
              "session_start_time": null,
              "execution_start_time": null,
              "execution_finish_time": null
            },
            "text/plain": "StatementMeta(, , , Waiting, )"
          },
          "metadata": {}
        }
      ],
      "execution_count": null,
      "metadata": {
        "jupyter": {
          "source_hidden": false,
          "outputs_hidden": false
        },
        "nteract": {
          "transient": {
            "deleting": false
          }
        },
        "microsoft": {
          "language": "sparksql"
        },
        "collapsed": false
      }
    },
    {
      "cell_type": "code",
      "source": [
        "predictions = spark.sql(\r\n",
        "                  \"\"\"\r\n",
        "                      SELECT PREDICT('sklearn_linear_regression', *) AS predict FROM data\r\n",
        "                  \"\"\"\r\n",
        "              ).show()"
      ],
      "outputs": [
        {
          "output_type": "display_data",
          "data": {
            "application/vnd.livy.statement-meta+json": {
              "spark_pool": null,
              "session_id": null,
              "statement_id": null,
              "state": "waiting",
              "livy_statement_state": null,
              "queued_time": "2021-12-16T03:31:39.0090823Z",
              "session_start_time": null,
              "execution_start_time": null,
              "execution_finish_time": null
            },
            "text/plain": "StatementMeta(, , , Waiting, )"
          },
          "metadata": {}
        }
      ],
      "execution_count": null,
      "metadata": {
        "jupyter": {
          "source_hidden": false,
          "outputs_hidden": false
        },
        "nteract": {
          "transient": {
            "deleting": false
          }
        }
      }
    },
    {
      "cell_type": "markdown",
      "source": [
        "## Special Thanks\r\n",
        "* Ajay Agarwal\r\n",
        "* Tian Wei\r\n",
        "* Nellie Gustafsson"
      ],
      "metadata": {
        "nteract": {
          "transient": {
            "deleting": false
          }
        }
      }
    }
  ],
  "metadata": {
    "kernelspec": {
      "name": "synapse_pyspark",
      "language": "Python",
      "display_name": "Synapse PySpark"
    },
    "language_info": {
      "name": "python"
    },
    "kernel_info": {
      "name": "synapse_pyspark"
    },
    "save_output": true,
    "synapse_widget": {
      "version": "0.1",
      "state": {}
    }
  },
  "nbformat": 4,
  "nbformat_minor": 2
}