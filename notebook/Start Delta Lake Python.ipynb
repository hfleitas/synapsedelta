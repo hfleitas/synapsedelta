{
  "cells": [
    {
      "cell_type": "markdown",
      "source": [
        "# Hitchhiker's Guide to Delta Lake (Python)\n",
        "\n",
        "This tutorial has been adapted for more clarity from its original counterpart [here](https://docs.delta.io/latest/quick-start.html). This notebook helps you quickly explore the main features of [Delta Lake](https://github.com/delta-io/delta). It provides code snippets that show how to read from and write to Delta Lake tables from interactive, batch, and streaming queries.\n",
        "\n",
        "Here's what we will cover:\n",
        "* Create a table\n",
        "* Understanding meta-data\n",
        "* Read data\n",
        "* Update table data\n",
        "* Overwrite table data\n",
        "* Conditional update without overwrite\n",
        "* Read older versions of data using Time Travel\n",
        "* Write a stream of data to a table\n",
        "* Read a stream of changes from a table"
      ],
      "metadata": {}
    },
    {
      "cell_type": "markdown",
      "source": [
        "## Configuration\n",
        "Make sure you modify this as appropriate."
      ],
      "metadata": {}
    },
    {
      "cell_type": "code",
      "source": [
        "import random\n",
        "\n",
        "session_id = random.randint(0,1000000)\n",
        "delta_table_path = \"/delta/delta-table-{0}\".format(session_id)\n",
        "\n",
        "delta_table_path"
      ],
      "outputs": [
        {
          "output_type": "display_data",
          "data": {
            "application/vnd.livy.statement-meta+json": {
              "spark_pool": "threedot0",
              "session_id": 87,
              "statement_id": 1,
              "state": "finished",
              "livy_statement_state": "available",
              "queued_time": "2021-09-10T12:48:56.4769304Z",
              "session_start_time": "2021-09-10T12:48:56.5167709Z",
              "execution_start_time": "2021-09-10T12:52:35.3109644Z",
              "execution_finish_time": "2021-09-10T12:52:35.4615239Z"
            },
            "text/plain": "StatementMeta(threedot0, 87, 1, Finished, Available)"
          },
          "metadata": {}
        },
        {
          "output_type": "display_data",
          "data": {
            "text/plain": "'/delta/delta-table-416277'"
          },
          "metadata": {}
        },
        {
          "output_type": "execute_result",
          "execution_count": 1,
          "data": {},
          "metadata": {}
        }
      ],
      "execution_count": 1,
      "metadata": {}
    },
    {
      "cell_type": "markdown",
      "source": [
        "## Create a table\n",
        "To create a Delta Lake table, write a DataFrame out in the **delta** format. You can use existing Spark SQL code and change the format from parquet, csv, json, and so on, to delta.\n",
        "\n",
        "These operations create a new Delta Lake table using the schema that was inferred from your DataFrame. For the full set of options available when you create a new Delta Lake table, see Create a table and Write to a table (subsequent cells in this notebook)."
      ],
      "metadata": {}
    },
    {
      "cell_type": "code",
      "source": [
        "data = spark.range(0,5)\n",
        "data.show()\n",
        "data.write.format(\"delta\").save(delta_table_path)"
      ],
      "outputs": [
        {
          "output_type": "display_data",
          "data": {
            "application/vnd.livy.statement-meta+json": {
              "spark_pool": "threedot0",
              "session_id": 87,
              "statement_id": 2,
              "state": "finished",
              "livy_statement_state": "available",
              "queued_time": "2021-09-10T12:53:46.5464558Z",
              "session_start_time": null,
              "execution_start_time": "2021-09-10T12:53:46.678248Z",
              "execution_finish_time": "2021-09-10T12:54:24.0176503Z"
            },
            "text/plain": "StatementMeta(threedot0, 87, 2, Finished, Available)"
          },
          "metadata": {}
        },
        {
          "output_type": "stream",
          "name": "stdout",
          "text": [
            "+---+\n",
            "| id|\n",
            "+---+\n",
            "|  0|\n",
            "|  1|\n",
            "|  2|\n",
            "|  3|\n",
            "|  4|\n",
            "+---+"
          ]
        }
      ],
      "execution_count": 2,
      "metadata": {}
    },
    {
      "cell_type": "markdown",
      "source": [
        "## Understanding Meta-data\n",
        "\n",
        "In Delta Lake, meta-data is no different from data i.e., it is stored next to the data. Therefore, an interesting side-effect here is that you can peek into meta-data using regular Spark APIs. "
      ],
      "metadata": {}
    },
    {
      "cell_type": "code",
      "source": [
        "[log_line.value for log_line in spark.read.text(delta_table_path + \"/_delta_log/\").collect()]"
      ],
      "outputs": [
        {
          "output_type": "display_data",
          "data": {
            "application/vnd.livy.statement-meta+json": {
              "spark_pool": "threedot0",
              "session_id": 87,
              "statement_id": 3,
              "state": "finished",
              "livy_statement_state": "available",
              "queued_time": "2021-09-10T12:54:56.0850436Z",
              "session_start_time": null,
              "execution_start_time": "2021-09-10T12:54:56.1978893Z",
              "execution_finish_time": "2021-09-10T12:54:57.2527763Z"
            },
            "text/plain": "StatementMeta(threedot0, 87, 3, Finished, Available)"
          },
          "metadata": {}
        },
        {
          "output_type": "display_data",
          "data": {
            "text/plain": "['{\"commitInfo\":{\"timestamp\":1631278450509,\"operation\":\"WRITE\",\"operationParameters\":{\"mode\":\"ErrorIfExists\",\"partitionBy\":\"[]\"},\"isBlindAppend\":true,\"operationMetrics\":{\"numFiles\":\"6\",\"numOutputBytes\":\"2611\",\"numOutputRows\":\"5\"}}}',\n '{\"protocol\":{\"minReaderVersion\":1,\"minWriterVersion\":2}}',\n '{\"metaData\":{\"id\":\"a7a7dbcd-cb5c-4276-8e2d-efbdcf950b9c\",\"format\":{\"provider\":\"parquet\",\"options\":{}},\"schemaString\":\"{\\\\\"type\\\\\":\\\\\"struct\\\\\",\\\\\"fields\\\\\":[{\\\\\"name\\\\\":\\\\\"id\\\\\",\\\\\"type\\\\\":\\\\\"long\\\\\",\\\\\"nullable\\\\\":true,\\\\\"metadata\\\\\":{}}]}\",\"partitionColumns\":[],\"configuration\":{},\"createdTime\":1631278440145}}',\n '{\"add\":{\"path\":\"part-00000-ce7dc7b5-f0d7-4f67-b842-2a8849c1832e-c000.snappy.parquet\",\"partitionValues\":{},\"size\":296,\"modificationTime\":1631278448000,\"dataChange\":true}}',\n '{\"add\":{\"path\":\"part-00006-3736a544-2f44-4086-a6e6-049c4f1fabfc-c000.snappy.parquet\",\"partitionValues\":{},\"size\":463,\"modificationTime\":1631278448000,\"dataChange\":true}}',\n '{\"add\":{\"path\":\"part-00012-eebad6e7-3dcb-4a65-b543-fa0795b48c4b-c000.snappy.parquet\",\"partitionValues\":{},\"size\":463,\"modificationTime\":1631278449000,\"dataChange\":true}}',\n '{\"add\":{\"path\":\"part-00019-171bacb8-7af9-47be-bf08-225c8f67e3db-c000.snappy.parquet\",\"partitionValues\":{},\"size\":463,\"modificationTime\":1631278450000,\"dataChange\":true}}',\n '{\"add\":{\"path\":\"part-00025-61ffc8ea-133b-4d1c-93ea-f1c4e3d7a5a0-c000.snappy.parquet\",\"partitionValues\":{},\"size\":463,\"modificationTime\":1631278450000,\"dataChange\":true}}',\n '{\"add\":{\"path\":\"part-00031-c329fff9-d987-4756-9356-2d29d15067ee-c000.snappy.parquet\",\"partitionValues\":{},\"size\":463,\"modificationTime\":1631278450000,\"dataChange\":true}}']"
          },
          "metadata": {}
        },
        {
          "output_type": "execute_result",
          "execution_count": 3,
          "data": {},
          "metadata": {}
        }
      ],
      "execution_count": 3,
      "metadata": {}
    },
    {
      "cell_type": "markdown",
      "source": [
        "## Read data\n",
        "\n",
        "You read data in your Delta Lake table by specifying the path to the files."
      ],
      "metadata": {}
    },
    {
      "cell_type": "code",
      "source": [
        "df = spark.read.format(\"delta\").load(delta_table_path)\n",
        "df.show()"
      ],
      "outputs": [
        {
          "output_type": "display_data",
          "data": {
            "application/vnd.livy.statement-meta+json": {
              "spark_pool": "threedot0",
              "session_id": 87,
              "statement_id": 4,
              "state": "finished",
              "livy_statement_state": "available",
              "queued_time": "2021-09-10T12:55:06.2318104Z",
              "session_start_time": null,
              "execution_start_time": "2021-09-10T12:55:07.1500844Z",
              "execution_finish_time": "2021-09-10T12:55:11.0665815Z"
            },
            "text/plain": "StatementMeta(threedot0, 87, 4, Finished, Available)"
          },
          "metadata": {}
        },
        {
          "output_type": "stream",
          "name": "stdout",
          "text": [
            "+---+\n",
            "| id|\n",
            "+---+\n",
            "|  4|\n",
            "|  1|\n",
            "|  2|\n",
            "|  3|\n",
            "|  0|\n",
            "+---+"
          ]
        }
      ],
      "execution_count": 4,
      "metadata": {}
    },
    {
      "cell_type": "markdown",
      "source": [
        "## Update table data\n",
        "\n",
        "Delta Lake supports several operations to modify tables using standard DataFrame APIs. This example runs a batch job to overwrite the data in the table.\n"
      ],
      "metadata": {}
    },
    {
      "cell_type": "code",
      "source": [
        "data = spark.range(5,10)\n",
        "data.write.format(\"delta\").mode(\"overwrite\").save(delta_table_path)\n",
        "df.show()"
      ],
      "outputs": [
        {
          "output_type": "display_data",
          "data": {
            "application/vnd.livy.statement-meta+json": {
              "spark_pool": "threedot0",
              "session_id": 87,
              "statement_id": 5,
              "state": "finished",
              "livy_statement_state": "available",
              "queued_time": "2021-09-10T12:56:06.3114801Z",
              "session_start_time": null,
              "execution_start_time": "2021-09-10T12:56:06.4252791Z",
              "execution_finish_time": "2021-09-10T12:56:11.7098115Z"
            },
            "text/plain": "StatementMeta(threedot0, 87, 5, Finished, Available)"
          },
          "metadata": {}
        },
        {
          "output_type": "stream",
          "name": "stdout",
          "text": [
            "+---+\n",
            "| id|\n",
            "+---+\n",
            "|  7|\n",
            "|  8|\n",
            "|  9|\n",
            "|  5|\n",
            "|  6|\n",
            "+---+"
          ]
        }
      ],
      "execution_count": 5,
      "metadata": {}
    },
    {
      "cell_type": "markdown",
      "source": [
        "When you now inspect the meta-data, what you will notice is that the original data is over-written. Well, not in a true sense but appropriate entries are added to Delta's transaction log so it can provide an \"illusion\" that the original data was deleted. We can verify this by re-inspecting the meta-data. You will see several entries indicating reference removal to the original data."
      ],
      "metadata": {}
    },
    {
      "cell_type": "code",
      "source": [
        "[log_line.value for log_line in spark.read.text(delta_table_path + \"/_delta_log/\").collect()]"
      ],
      "outputs": [
        {
          "output_type": "display_data",
          "data": {
            "application/vnd.livy.statement-meta+json": {
              "spark_pool": "threedot0",
              "session_id": 87,
              "statement_id": 6,
              "state": "finished",
              "livy_statement_state": "available",
              "queued_time": "2021-09-10T12:56:22.7438656Z",
              "session_start_time": null,
              "execution_start_time": "2021-09-10T12:56:22.8666594Z",
              "execution_finish_time": "2021-09-10T12:56:23.3858474Z"
            },
            "text/plain": "StatementMeta(threedot0, 87, 6, Finished, Available)"
          },
          "metadata": {}
        },
        {
          "output_type": "display_data",
          "data": {
            "text/plain": "['{\"commitInfo\":{\"timestamp\":1631278567312,\"operation\":\"WRITE\",\"operationParameters\":{\"mode\":\"Overwrite\",\"partitionBy\":\"[]\"},\"readVersion\":0,\"isBlindAppend\":false,\"operationMetrics\":{\"numFiles\":\"6\",\"numOutputBytes\":\"2611\",\"numOutputRows\":\"5\"}}}',\n '{\"add\":{\"path\":\"part-00000-5a74dee9-a372-4fb8-a92c-c29344342ee8-c000.snappy.parquet\",\"partitionValues\":{},\"size\":296,\"modificationTime\":1631278566000,\"dataChange\":true}}',\n '{\"add\":{\"path\":\"part-00006-7da5dc8c-351a-4d13-9ecf-6e6eb7b0c2a1-c000.snappy.parquet\",\"partitionValues\":{},\"size\":463,\"modificationTime\":1631278566000,\"dataChange\":true}}',\n '{\"add\":{\"path\":\"part-00012-eb9d6f05-59a9-46cd-bde9-bf2261e95c3d-c000.snappy.parquet\",\"partitionValues\":{},\"size\":463,\"modificationTime\":1631278566000,\"dataChange\":true}}',\n '{\"add\":{\"path\":\"part-00019-43465ce8-a424-4b87-aa99-f4a48f3374e1-c000.snappy.parquet\",\"partitionValues\":{},\"size\":463,\"modificationTime\":1631278566000,\"dataChange\":true}}',\n '{\"add\":{\"path\":\"part-00025-69150773-13ef-45c0-9302-b2fc904d9209-c000.snappy.parquet\",\"partitionValues\":{},\"size\":463,\"modificationTime\":1631278566000,\"dataChange\":true}}',\n '{\"add\":{\"path\":\"part-00031-8476ac07-8b49-4800-b06e-6734ac602900-c000.snappy.parquet\",\"partitionValues\":{},\"size\":463,\"modificationTime\":1631278566000,\"dataChange\":true}}',\n '{\"remove\":{\"path\":\"part-00000-ce7dc7b5-f0d7-4f67-b842-2a8849c1832e-c000.snappy.parquet\",\"deletionTimestamp\":1631278567311,\"dataChange\":true,\"extendedFileMetadata\":true,\"partitionValues\":{},\"size\":296}}',\n '{\"remove\":{\"path\":\"part-00031-c329fff9-d987-4756-9356-2d29d15067ee-c000.snappy.parquet\",\"deletionTimestamp\":1631278567312,\"dataChange\":true,\"extendedFileMetadata\":true,\"partitionValues\":{},\"size\":463}}',\n '{\"remove\":{\"path\":\"part-00012-eebad6e7-3dcb-4a65-b543-fa0795b48c4b-c000.snappy.parquet\",\"deletionTimestamp\":1631278567312,\"dataChange\":true,\"extendedFileMetadata\":true,\"partitionValues\":{},\"size\":463}}',\n '{\"remove\":{\"path\":\"part-00019-171bacb8-7af9-47be-bf08-225c8f67e3db-c000.snappy.parquet\",\"deletionTimestamp\":1631278567312,\"dataChange\":true,\"extendedFileMetadata\":true,\"partitionValues\":{},\"size\":463}}',\n '{\"remove\":{\"path\":\"part-00025-61ffc8ea-133b-4d1c-93ea-f1c4e3d7a5a0-c000.snappy.parquet\",\"deletionTimestamp\":1631278567312,\"dataChange\":true,\"extendedFileMetadata\":true,\"partitionValues\":{},\"size\":463}}',\n '{\"remove\":{\"path\":\"part-00006-3736a544-2f44-4086-a6e6-049c4f1fabfc-c000.snappy.parquet\",\"deletionTimestamp\":1631278567312,\"dataChange\":true,\"extendedFileMetadata\":true,\"partitionValues\":{},\"size\":463}}',\n '{\"commitInfo\":{\"timestamp\":1631278450509,\"operation\":\"WRITE\",\"operationParameters\":{\"mode\":\"ErrorIfExists\",\"partitionBy\":\"[]\"},\"isBlindAppend\":true,\"operationMetrics\":{\"numFiles\":\"6\",\"numOutputBytes\":\"2611\",\"numOutputRows\":\"5\"}}}',\n '{\"protocol\":{\"minReaderVersion\":1,\"minWriterVersion\":2}}',\n '{\"metaData\":{\"id\":\"a7a7dbcd-cb5c-4276-8e2d-efbdcf950b9c\",\"format\":{\"provider\":\"parquet\",\"options\":{}},\"schemaString\":\"{\\\\\"type\\\\\":\\\\\"struct\\\\\",\\\\\"fields\\\\\":[{\\\\\"name\\\\\":\\\\\"id\\\\\",\\\\\"type\\\\\":\\\\\"long\\\\\",\\\\\"nullable\\\\\":true,\\\\\"metadata\\\\\":{}}]}\",\"partitionColumns\":[],\"configuration\":{},\"createdTime\":1631278440145}}',\n '{\"add\":{\"path\":\"part-00000-ce7dc7b5-f0d7-4f67-b842-2a8849c1832e-c000.snappy.parquet\",\"partitionValues\":{},\"size\":296,\"modificationTime\":1631278448000,\"dataChange\":true}}',\n '{\"add\":{\"path\":\"part-00006-3736a544-2f44-4086-a6e6-049c4f1fabfc-c000.snappy.parquet\",\"partitionValues\":{},\"size\":463,\"modificationTime\":1631278448000,\"dataChange\":true}}',\n '{\"add\":{\"path\":\"part-00012-eebad6e7-3dcb-4a65-b543-fa0795b48c4b-c000.snappy.parquet\",\"partitionValues\":{},\"size\":463,\"modificationTime\":1631278449000,\"dataChange\":true}}',\n '{\"add\":{\"path\":\"part-00019-171bacb8-7af9-47be-bf08-225c8f67e3db-c000.snappy.parquet\",\"partitionValues\":{},\"size\":463,\"modificationTime\":1631278450000,\"dataChange\":true}}',\n '{\"add\":{\"path\":\"part-00025-61ffc8ea-133b-4d1c-93ea-f1c4e3d7a5a0-c000.snappy.parquet\",\"partitionValues\":{},\"size\":463,\"modificationTime\":1631278450000,\"dataChange\":true}}',\n '{\"add\":{\"path\":\"part-00031-c329fff9-d987-4756-9356-2d29d15067ee-c000.snappy.parquet\",\"partitionValues\":{},\"size\":463,\"modificationTime\":1631278450000,\"dataChange\":true}}']"
          },
          "metadata": {}
        },
        {
          "output_type": "execute_result",
          "execution_count": 6,
          "data": {},
          "metadata": {}
        }
      ],
      "execution_count": 6,
      "metadata": {}
    },
    {
      "cell_type": "markdown",
      "source": [
        "## Save as catalog tables\n",
        "\n",
        "Delta Lake can write to managed or external catalog tables."
      ],
      "metadata": {}
    },
    {
      "cell_type": "code",
      "source": [
        "# Write data to a new managed catalog table.\n",
        "data.write.format(\"delta\").saveAsTable(\"ManagedDeltaTable\")"
      ],
      "outputs": [
        {
          "output_type": "display_data",
          "data": {
            "application/vnd.livy.statement-meta+json": {
              "spark_pool": "threedot0",
              "session_id": 87,
              "statement_id": 7,
              "state": "finished",
              "livy_statement_state": "available",
              "queued_time": "2021-09-10T12:56:36.9907891Z",
              "session_start_time": null,
              "execution_start_time": "2021-09-10T12:56:37.1112861Z",
              "execution_finish_time": "2021-09-10T12:56:49.8037902Z"
            },
            "text/plain": "StatementMeta(threedot0, 87, 7, Finished, Available)"
          },
          "metadata": {}
        },
        {
          "output_type": "stream",
          "name": "stdout",
          "text": []
        }
      ],
      "execution_count": 7,
      "metadata": {}
    },
    {
      "cell_type": "code",
      "source": [
        "# Define an external catalog table that points to the existing Delta Lake data in storage.\n",
        "spark.sql(\"CREATE TABLE ExternalDeltaTable USING DELTA LOCATION '{0}'\".format(delta_table_path))"
      ],
      "outputs": [
        {
          "output_type": "display_data",
          "data": {
            "application/vnd.livy.statement-meta+json": {
              "spark_pool": "threedot0",
              "session_id": 87,
              "statement_id": 8,
              "state": "finished",
              "livy_statement_state": "available",
              "queued_time": "2021-09-10T12:57:04.7638304Z",
              "session_start_time": null,
              "execution_start_time": "2021-09-10T12:57:04.8708889Z",
              "execution_finish_time": "2021-09-10T12:57:06.6895325Z"
            },
            "text/plain": "StatementMeta(threedot0, 87, 8, Finished, Available)"
          },
          "metadata": {}
        },
        {
          "output_type": "display_data",
          "data": {
            "text/plain": "DataFrame[]"
          },
          "metadata": {}
        },
        {
          "output_type": "execute_result",
          "execution_count": 8,
          "data": {},
          "metadata": {}
        }
      ],
      "execution_count": 8,
      "metadata": {}
    },
    {
      "cell_type": "code",
      "source": [
        "# List the 2 new tables.\n",
        "spark.sql(\"SHOW TABLES\").show()\n",
        "\n",
        "# Explore their properties.\n",
        "spark.sql(\"DESCRIBE EXTENDED ManagedDeltaTable\").show(truncate=False)\n",
        "spark.sql(\"DESCRIBE EXTENDED ExternalDeltaTable\").show(truncate=False)"
      ],
      "outputs": [
        {
          "output_type": "display_data",
          "data": {
            "application/vnd.livy.statement-meta+json": {
              "spark_pool": "threedot0",
              "session_id": 87,
              "statement_id": 9,
              "state": "finished",
              "livy_statement_state": "available",
              "queued_time": "2021-09-10T12:57:11.7844033Z",
              "session_start_time": null,
              "execution_start_time": "2021-09-10T12:57:11.8929636Z",
              "execution_finish_time": "2021-09-10T12:57:13.738594Z"
            },
            "text/plain": "StatementMeta(threedot0, 87, 9, Finished, Available)"
          },
          "metadata": {}
        },
        {
          "output_type": "stream",
          "name": "stdout",
          "text": [
            "+--------+------------------+-----------+\n",
            "|database|         tableName|isTemporary|\n",
            "+--------+------------------+-----------+\n",
            "| default|       lastchanges|      false|\n",
            "| default|            target|      false|\n",
            "| default| manageddeltatable|      false|\n",
            "| default|externaldeltatable|      false|\n",
            "+--------+------------------+-----------+\n",
            "\n",
            "+----------------------------+-----------------------------------------------------------------------------------------------------------------------------------------+-------+\n",
            "|col_name                    |data_type                                                                                                                                |comment|\n",
            "+----------------------------+-----------------------------------------------------------------------------------------------------------------------------------------+-------+\n",
            "|id                          |bigint                                                                                                                                   |       |\n",
            "|                            |                                                                                                                                         |       |\n",
            "|# Partitioning              |                                                                                                                                         |       |\n",
            "|Not partitioned             |                                                                                                                                         |       |\n",
            "|                            |                                                                                                                                         |       |\n",
            "|# Detailed Table Information|                                                                                                                                         |       |\n",
            "|Name                        |default.manageddeltatable                                                                                                                |       |\n",
            "|Location                    |abfss://wplushiramsynapsefs@wplushiramsynapseadlsv2.dfs.core.windows.net/synapse/workspaces/wplushiramsynapse/warehouse/manageddeltatable|       |\n",
            "|Provider                    |delta                                                                                                                                    |       |\n",
            "|Table Properties            |[Type=MANAGED,delta.minReaderVersion=1,delta.minWriterVersion=2]                                                                         |       |\n",
            "+----------------------------+-----------------------------------------------------------------------------------------------------------------------------------------+-------+\n",
            "\n",
            "+----------------------------+-------------------------------------------------------------------------------------------------+-------+\n",
            "|col_name                    |data_type                                                                                        |comment|\n",
            "+----------------------------+-------------------------------------------------------------------------------------------------+-------+\n",
            "|id                          |bigint                                                                                           |       |\n",
            "|                            |                                                                                                 |       |\n",
            "|# Partitioning              |                                                                                                 |       |\n",
            "|Not partitioned             |                                                                                                 |       |\n",
            "|                            |                                                                                                 |       |\n",
            "|# Detailed Table Information|                                                                                                 |       |\n",
            "|Name                        |default.externaldeltatable                                                                       |       |\n",
            "|Location                    |abfss://wplushiramsynapsefs@wplushiramsynapseadlsv2.dfs.core.windows.net/delta/delta-table-416277|       |\n",
            "|Provider                    |delta                                                                                            |       |\n",
            "|Table Properties            |[Type=EXTERNAL,delta.minReaderVersion=1,delta.minWriterVersion=2]                                |       |\n",
            "+----------------------------+-------------------------------------------------------------------------------------------------+-------+"
          ]
        }
      ],
      "execution_count": 9,
      "metadata": {}
    },
    {
      "cell_type": "markdown",
      "source": [
        "## Conditional update without overwrite\n",
        "\n",
        "Delta Lake provides programmatic APIs to conditional update, delete, and merge (upsert) data into tables. For more information on these operations, see [Table Deletes, Updates, and Merges](https://docs.delta.io/latest/delta-update.html)."
      ],
      "metadata": {}
    },
    {
      "cell_type": "code",
      "source": [
        "from delta.tables import *\n",
        "from pyspark.sql.functions import *\n",
        "\n",
        "delta_table = DeltaTable.forPath(spark, delta_table_path)"
      ],
      "outputs": [
        {
          "output_type": "display_data",
          "data": {
            "application/vnd.livy.statement-meta+json": {
              "spark_pool": "threedot0",
              "session_id": 87,
              "statement_id": 10,
              "state": "finished",
              "livy_statement_state": "available",
              "queued_time": "2021-09-10T12:57:47.0272807Z",
              "session_start_time": null,
              "execution_start_time": "2021-09-10T12:57:47.1397484Z",
              "execution_finish_time": "2021-09-10T12:57:47.2937843Z"
            },
            "text/plain": "StatementMeta(threedot0, 87, 10, Finished, Available)"
          },
          "metadata": {}
        },
        {
          "output_type": "stream",
          "name": "stdout",
          "text": []
        }
      ],
      "execution_count": 10,
      "metadata": {}
    },
    {
      "cell_type": "code",
      "source": [
        "# Update every even value by adding 100 to it\n",
        "delta_table.update(\n",
        "  condition = expr(\"id % 2 == 0\"),\n",
        "  set = { \"id\": expr(\"id + 100\") })\n",
        "delta_table.toDF().show()"
      ],
      "outputs": [
        {
          "output_type": "display_data",
          "data": {
            "application/vnd.livy.statement-meta+json": {
              "spark_pool": "threedot0",
              "session_id": 87,
              "statement_id": 11,
              "state": "finished",
              "livy_statement_state": "available",
              "queued_time": "2021-09-10T12:57:57.3095989Z",
              "session_start_time": null,
              "execution_start_time": "2021-09-10T12:57:57.4145131Z",
              "execution_finish_time": "2021-09-10T12:58:02.7226423Z"
            },
            "text/plain": "StatementMeta(threedot0, 87, 11, Finished, Available)"
          },
          "metadata": {}
        },
        {
          "output_type": "stream",
          "name": "stdout",
          "text": [
            "+---+\n",
            "| id|\n",
            "+---+\n",
            "|  7|\n",
            "|106|\n",
            "|108|\n",
            "|  9|\n",
            "|  5|\n",
            "+---+"
          ]
        }
      ],
      "execution_count": 11,
      "metadata": {}
    },
    {
      "cell_type": "code",
      "source": [
        "# Delete every even value\n",
        "delta_table.delete(\"id % 2 == 0\")\n",
        "delta_table.toDF().show()"
      ],
      "outputs": [
        {
          "output_type": "display_data",
          "data": {
            "application/vnd.livy.statement-meta+json": {
              "spark_pool": "threedot0",
              "session_id": 87,
              "statement_id": 12,
              "state": "finished",
              "livy_statement_state": "available",
              "queued_time": "2021-09-10T12:58:08.7450709Z",
              "session_start_time": null,
              "execution_start_time": "2021-09-10T12:58:08.8513122Z",
              "execution_finish_time": "2021-09-10T12:58:12.7893324Z"
            },
            "text/plain": "StatementMeta(threedot0, 87, 12, Finished, Available)"
          },
          "metadata": {}
        },
        {
          "output_type": "stream",
          "name": "stdout",
          "text": [
            "+---+\n",
            "| id|\n",
            "+---+\n",
            "|  7|\n",
            "|  9|\n",
            "|  5|\n",
            "+---+"
          ]
        }
      ],
      "execution_count": 12,
      "metadata": {}
    },
    {
      "cell_type": "code",
      "source": [
        "# Upsert (merge) new data\n",
        "new_data = spark.range(0,20).alias(\"newData\")\n",
        "\n",
        "delta_table.alias(\"oldData\")\\\n",
        "    .merge(new_data.alias(\"newData\"), \"oldData.id = newData.id\")\\\n",
        "    .whenMatchedUpdate(set = { \"id\": lit(\"-1\")})\\\n",
        "    .whenNotMatchedInsert(values = { \"id\": col(\"newData.id\") })\\\n",
        "    .execute()\n",
        "\n",
        "delta_table.toDF().show(100)"
      ],
      "outputs": [
        {
          "output_type": "display_data",
          "data": {
            "application/vnd.livy.statement-meta+json": {
              "spark_pool": "threedot0",
              "session_id": 87,
              "statement_id": 13,
              "state": "finished",
              "livy_statement_state": "available",
              "queued_time": "2021-09-10T12:58:16.635765Z",
              "session_start_time": null,
              "execution_start_time": "2021-09-10T12:58:16.7509776Z",
              "execution_finish_time": "2021-09-10T12:58:25.3784787Z"
            },
            "text/plain": "StatementMeta(threedot0, 87, 13, Finished, Available)"
          },
          "metadata": {}
        },
        {
          "output_type": "stream",
          "name": "stdout",
          "text": [
            "+---+\n",
            "| id|\n",
            "+---+\n",
            "|  0|\n",
            "|  8|\n",
            "| 11|\n",
            "| 15|\n",
            "| 18|\n",
            "| 19|\n",
            "| 10|\n",
            "| 16|\n",
            "| -1|\n",
            "|  3|\n",
            "| 13|\n",
            "| 17|\n",
            "| 12|\n",
            "| -1|\n",
            "| -1|\n",
            "| 14|\n",
            "|  2|\n",
            "|  1|\n",
            "|  6|\n",
            "|  4|\n",
            "+---+"
          ]
        }
      ],
      "execution_count": 13,
      "metadata": {}
    },
    {
      "cell_type": "markdown",
      "source": [
        "## History\n",
        "Delta's most powerful feature is the ability to allow looking into history i.e., the changes that were made to the underlying Delta Table. The cell below shows how simple it is to inspect the history."
      ],
      "metadata": {}
    },
    {
      "cell_type": "code",
      "source": [
        "delta_table.history().show(20, 1000, False)"
      ],
      "outputs": [
        {
          "output_type": "display_data",
          "data": {
            "application/vnd.livy.statement-meta+json": {
              "spark_pool": "threedot0",
              "session_id": 87,
              "statement_id": 16,
              "state": "finished",
              "livy_statement_state": "available",
              "queued_time": "2021-09-10T12:59:09.555987Z",
              "session_start_time": null,
              "execution_start_time": "2021-09-10T12:59:10.3485346Z",
              "execution_finish_time": "2021-09-10T12:59:10.5120731Z"
            },
            "text/plain": "StatementMeta(threedot0, 87, 16, Finished, Available)"
          },
          "metadata": {}
        },
        {
          "output_type": "stream",
          "name": "stdout",
          "text": [
            "+-------+-------------------+------+--------+---------+-----------------------------------------------------------------------------------------------------------------------------------------------+----+--------+---------+-----------+--------------+-------------+----------------------------------------------------------------------------------------------------------------------------------------------------------------------------------------------------------------------------------------------------------------------------------+------------+\n",
            "|version|          timestamp|userId|userName|operation|                                                                                                                            operationParameters| job|notebook|clusterId|readVersion|isolationLevel|isBlindAppend|                                                                                                                                                                                                                                                                  operationMetrics|userMetadata|\n",
            "+-------+-------------------+------+--------+---------+-----------------------------------------------------------------------------------------------------------------------------------------------+----+--------+---------+-----------+--------------+-------------+----------------------------------------------------------------------------------------------------------------------------------------------------------------------------------------------------------------------------------------------------------------------------------+------------+\n",
            "|      4|2021-09-10 12:58:21|  null|    null|    MERGE|{predicate -> (oldData.`id` = newData.`id`), matchedPredicates -> [{\"actionType\":\"update\"}], notMatchedPredicates -> [{\"actionType\":\"insert\"}]}|null|    null|     null|          3|          null|        false|{numTargetRowsCopied -> 0, numTargetRowsDeleted -> 0, numTargetFilesAdded -> 21, executionTimeMs -> 4212, numTargetRowsInserted -> 17, scanTimeMs -> 1736, numTargetRowsUpdated -> 3, numOutputRows -> 20, numSourceRows -> 20, numTargetFilesRemoved -> 3, rewriteTimeMs -> 2408}|        null|\n",
            "|      3|2021-09-10 12:58:10|  null|    null|   DELETE|                                                                                                          {predicate -> [\"((`id` % 2L) = 0L)\"]}|null|    null|     null|          2|          null|        false|                                                                                                                             {numRemovedFiles -> 2, numCopiedRows -> 0, executionTimeMs -> 1272, numDeletedRows -> 2, scanTimeMs -> 814, numAddedFiles -> 1, rewriteTimeMs -> 458}|        null|\n",
            "|      2|2021-09-10 12:57:59|  null|    null|   UPDATE|                                                                                                             {predicate -> ((id#902L % 2) = 0)}|null|    null|     null|          1|          null|        false|                                                                                                                            {numRemovedFiles -> 2, numCopiedRows -> 0, executionTimeMs -> 1969, scanTimeMs -> 1338, numAddedFiles -> 2, numUpdatedRows -> 2, rewriteTimeMs -> 631}|        null|\n",
            "|      1|2021-09-10 12:56:07|  null|    null|    WRITE|                                                                                                         {mode -> Overwrite, partitionBy -> []}|null|    null|     null|          0|          null|        false|                                                                                                                                                                                                                       {numFiles -> 6, numOutputBytes -> 2611, numOutputRows -> 5}|        null|\n",
            "|      0|2021-09-10 12:54:10|  null|    null|    WRITE|                                                                                                     {mode -> ErrorIfExists, partitionBy -> []}|null|    null|     null|       null|          null|         true|                                                                                                                                                                                                                       {numFiles -> 6, numOutputBytes -> 2611, numOutputRows -> 5}|        null|\n",
            "+-------+-------------------+------+--------+---------+-----------------------------------------------------------------------------------------------------------------------------------------------+----+--------+---------+-----------+--------------+-------------+----------------------------------------------------------------------------------------------------------------------------------------------------------------------------------------------------------------------------------------------------------------------------------+------------+"
          ]
        }
      ],
      "execution_count": 16,
      "metadata": {}
    },
    {
      "cell_type": "markdown",
      "source": [
        "## Read older versions of data using Time Travel\n",
        "\n",
        "You can query previous snapshots of your Delta Lake table by using a feature called Time Travel. If you want to access the data that you overwrote, you can query a snapshot of the table before you overwrote the first set of data using the versionAsOf option.\n",
        "\n",
        "Once you run the cell below, you should see the first set of data, from before you overwrote it. Time Travel is an extremely powerful feature that takes advantage of the power of the Delta Lake transaction log to access data that is no longer in the table. Removing the version 0 option (or specifying version 1) would let you see the newer data again. For more information, see [Query an older snapshot of a table (time travel)](https://docs.delta.io/latest/delta-batch.html#deltatimetravel)."
      ],
      "metadata": {}
    },
    {
      "cell_type": "code",
      "source": [
        "df = spark.read.format(\"delta\").option(\"versionAsOf\", 0).load(delta_table_path)\n",
        "df.show()"
      ],
      "outputs": [
        {
          "output_type": "display_data",
          "data": {
            "application/vnd.livy.statement-meta+json": {
              "spark_pool": "threedot0",
              "session_id": 87,
              "statement_id": 17,
              "state": "finished",
              "livy_statement_state": "available",
              "queued_time": "2021-09-10T12:59:23.9792008Z",
              "session_start_time": null,
              "execution_start_time": "2021-09-10T12:59:24.0979035Z",
              "execution_finish_time": "2021-09-10T12:59:26.884293Z"
            },
            "text/plain": "StatementMeta(threedot0, 87, 17, Finished, Available)"
          },
          "metadata": {}
        },
        {
          "output_type": "stream",
          "name": "stdout",
          "text": [
            "+---+\n",
            "| id|\n",
            "+---+\n",
            "|  4|\n",
            "|  1|\n",
            "|  2|\n",
            "|  3|\n",
            "|  0|\n",
            "+---+"
          ]
        }
      ],
      "execution_count": 17,
      "metadata": {}
    },
    {
      "cell_type": "markdown",
      "source": [
        "## Write a stream of data to a table\n",
        "\n",
        "You can also write to a Delta Lake table using Spark's Structured Streaming. The Delta Lake transaction log guarantees exactly-once processing, even when there are other streams or batch queries running concurrently against the table. By default, streams run in append mode, which adds new records to the table.\n",
        "\n",
        "For more information about Delta Lake integration with Structured Streaming, see [Table Streaming Reads and Writes](https://docs.delta.io/latest/delta-streaming.html).\n",
        "\n",
        "In the cells below, here's what we are doing:\n",
        "\n",
        "1. *Cell 28* Setup a simple Spark Structured Streaming job to generate a sequence and make the job write into our Delta Table\n",
        "2. *Cell 30* Show the newly appended data\n",
        "3. *Cell 31* Inspect history\n",
        "4. *Cell 32* Stop the structured streaming job\n",
        "5. *Cell 33* Inspect history <-- You'll notice appends have stopped"
      ],
      "metadata": {}
    },
    {
      "cell_type": "code",
      "source": [
        "streaming_df = spark.readStream.format(\"rate\").load()\n",
        "stream = streaming_df\\\n",
        "    .selectExpr(\"value as id\")\\\n",
        "    .writeStream\\\n",
        "    .format(\"delta\")\\\n",
        "    .option(\"checkpointLocation\", \"/tmp/checkpoint-{0}\".format(session_id))\\\n",
        "    .start(delta_table_path)"
      ],
      "outputs": [
        {
          "output_type": "display_data",
          "data": {
            "application/vnd.livy.statement-meta+json": {
              "spark_pool": "threedot0",
              "session_id": 87,
              "statement_id": 18,
              "state": "finished",
              "livy_statement_state": "available",
              "queued_time": "2021-09-10T12:59:41.0474159Z",
              "session_start_time": null,
              "execution_start_time": "2021-09-10T12:59:41.1691191Z",
              "execution_finish_time": "2021-09-10T12:59:42.3145051Z"
            },
            "text/plain": "StatementMeta(threedot0, 87, 18, Finished, Available)"
          },
          "metadata": {}
        },
        {
          "output_type": "stream",
          "name": "stdout",
          "text": []
        }
      ],
      "execution_count": 18,
      "metadata": {}
    },
    {
      "cell_type": "markdown",
      "source": [
        "## Read a stream of changes from a table\n",
        "\n",
        "While the stream is writing to the Delta Lake table, you can also read from that table as streaming source. For example, you can start another streaming query that prints all the changes made to the Delta Lake table."
      ],
      "metadata": {}
    },
    {
      "cell_type": "code",
      "source": [
        "delta_table.toDF().sort(col(\"id\").desc()).show(100)"
      ],
      "outputs": [
        {
          "output_type": "display_data",
          "data": {
            "application/vnd.livy.statement-meta+json": {
              "spark_pool": "threedot0",
              "session_id": 87,
              "statement_id": 19,
              "state": "finished",
              "livy_statement_state": "available",
              "queued_time": "2021-09-10T12:59:47.8054685Z",
              "session_start_time": null,
              "execution_start_time": "2021-09-10T12:59:47.9141605Z",
              "execution_finish_time": "2021-09-10T12:59:49.7254214Z"
            },
            "text/plain": "StatementMeta(threedot0, 87, 19, Finished, Available)"
          },
          "metadata": {}
        },
        {
          "output_type": "stream",
          "name": "stdout",
          "text": [
            "+---+\n",
            "| id|\n",
            "+---+\n",
            "| 19|\n",
            "| 18|\n",
            "| 17|\n",
            "| 16|\n",
            "| 15|\n",
            "| 14|\n",
            "| 13|\n",
            "| 12|\n",
            "| 11|\n",
            "| 10|\n",
            "|  8|\n",
            "|  6|\n",
            "|  4|\n",
            "|  3|\n",
            "|  2|\n",
            "|  1|\n",
            "|  1|\n",
            "|  0|\n",
            "|  0|\n",
            "| -1|\n",
            "| -1|\n",
            "| -1|\n",
            "+---+"
          ]
        }
      ],
      "execution_count": 19,
      "metadata": {}
    },
    {
      "cell_type": "code",
      "source": [
        "delta_table.history().drop(\"userId\", \"userName\", \"job\", \"notebook\", \"clusterId\", \"isolationLevel\", \"isBlindAppend\").show(20, 1000, False)"
      ],
      "outputs": [
        {
          "output_type": "display_data",
          "data": {
            "application/vnd.livy.statement-meta+json": {
              "spark_pool": "threedot0",
              "session_id": 87,
              "statement_id": 20,
              "state": "finished",
              "livy_statement_state": "available",
              "queued_time": "2021-09-10T13:00:03.0992083Z",
              "session_start_time": null,
              "execution_start_time": "2021-09-10T13:00:03.2122954Z",
              "execution_finish_time": "2021-09-10T13:00:05.0033403Z"
            },
            "text/plain": "StatementMeta(threedot0, 87, 20, Finished, Available)"
          },
          "metadata": {}
        },
        {
          "output_type": "stream",
          "name": "stdout",
          "text": [
            "+-------+-------------------+----------------+-----------------------------------------------------------------------------------------------------------------------------------------------+-----------+----------------------------------------------------------------------------------------------------------------------------------------------------------------------------------------------------------------------------------------------------------------------------------+------------+\n",
            "|version|          timestamp|       operation|                                                                                                                            operationParameters|readVersion|                                                                                                                                                                                                                                                                  operationMetrics|userMetadata|\n",
            "+-------+-------------------+----------------+-----------------------------------------------------------------------------------------------------------------------------------------------+-----------+----------------------------------------------------------------------------------------------------------------------------------------------------------------------------------------------------------------------------------------------------------------------------------+------------+\n",
            "|     12|2021-09-10 13:00:02|STREAMING UPDATE|                                                          {outputMode -> Append, queryId -> 67c4fe72-3bc8-4785-8a30-771044ff3af3, epochId -> 7}|         11|                                                                                                                                                                                            {numRemovedFiles -> 0, numOutputRows -> 3, numOutputBytes -> 1389, numAddedFiles -> 3}|        null|\n",
            "|     11|2021-09-10 12:59:59|STREAMING UPDATE|                                                          {outputMode -> Append, queryId -> 67c4fe72-3bc8-4785-8a30-771044ff3af3, epochId -> 6}|         10|                                                                                                                                                                                            {numRemovedFiles -> 0, numOutputRows -> 4, numOutputBytes -> 1852, numAddedFiles -> 4}|        null|\n",
            "|     10|2021-09-10 12:59:55|STREAMING UPDATE|                                                          {outputMode -> Append, queryId -> 67c4fe72-3bc8-4785-8a30-771044ff3af3, epochId -> 5}|          9|                                                                                                                                                                                            {numRemovedFiles -> 0, numOutputRows -> 3, numOutputBytes -> 1389, numAddedFiles -> 3}|        null|\n",
            "|      9|2021-09-10 12:59:52|STREAMING UPDATE|                                                          {outputMode -> Append, queryId -> 67c4fe72-3bc8-4785-8a30-771044ff3af3, epochId -> 4}|          8|                                                                                                                                                                                             {numRemovedFiles -> 0, numOutputRows -> 2, numOutputBytes -> 926, numAddedFiles -> 2}|        null|\n",
            "|      8|2021-09-10 12:59:50|STREAMING UPDATE|                                                          {outputMode -> Append, queryId -> 67c4fe72-3bc8-4785-8a30-771044ff3af3, epochId -> 3}|          7|                                                                                                                                                                                             {numRemovedFiles -> 0, numOutputRows -> 2, numOutputBytes -> 926, numAddedFiles -> 2}|        null|\n",
            "|      7|2021-09-10 12:59:48|STREAMING UPDATE|                                                          {outputMode -> Append, queryId -> 67c4fe72-3bc8-4785-8a30-771044ff3af3, epochId -> 2}|          6|                                                                                                                                                                                            {numRemovedFiles -> 0, numOutputRows -> 3, numOutputBytes -> 1389, numAddedFiles -> 3}|        null|\n",
            "|      6|2021-09-10 12:59:45|STREAMING UPDATE|                                                          {outputMode -> Append, queryId -> 67c4fe72-3bc8-4785-8a30-771044ff3af3, epochId -> 1}|          5|                                                                                                                                                                                             {numRemovedFiles -> 0, numOutputRows -> 2, numOutputBytes -> 926, numAddedFiles -> 2}|        null|\n",
            "|      5|2021-09-10 12:59:43|STREAMING UPDATE|                                                          {outputMode -> Append, queryId -> 67c4fe72-3bc8-4785-8a30-771044ff3af3, epochId -> 0}|          4|                                                                                                                                                                                             {numRemovedFiles -> 0, numOutputRows -> 0, numOutputBytes -> 296, numAddedFiles -> 1}|        null|\n",
            "|      4|2021-09-10 12:58:21|           MERGE|{predicate -> (oldData.`id` = newData.`id`), matchedPredicates -> [{\"actionType\":\"update\"}], notMatchedPredicates -> [{\"actionType\":\"insert\"}]}|          3|{numTargetRowsCopied -> 0, numTargetRowsDeleted -> 0, numTargetFilesAdded -> 21, executionTimeMs -> 4212, numTargetRowsInserted -> 17, scanTimeMs -> 1736, numTargetRowsUpdated -> 3, numOutputRows -> 20, numSourceRows -> 20, numTargetFilesRemoved -> 3, rewriteTimeMs -> 2408}|        null|\n",
            "|      3|2021-09-10 12:58:10|          DELETE|                                                                                                          {predicate -> [\"((`id` % 2L) = 0L)\"]}|          2|                                                                                                                             {numRemovedFiles -> 2, numCopiedRows -> 0, executionTimeMs -> 1272, numDeletedRows -> 2, scanTimeMs -> 814, numAddedFiles -> 1, rewriteTimeMs -> 458}|        null|\n",
            "|      2|2021-09-10 12:57:59|          UPDATE|                                                                                                             {predicate -> ((id#902L % 2) = 0)}|          1|                                                                                                                            {numRemovedFiles -> 2, numCopiedRows -> 0, executionTimeMs -> 1969, scanTimeMs -> 1338, numAddedFiles -> 2, numUpdatedRows -> 2, rewriteTimeMs -> 631}|        null|\n",
            "|      1|2021-09-10 12:56:07|           WRITE|                                                                                                         {mode -> Overwrite, partitionBy -> []}|          0|                                                                                                                                                                                                                       {numFiles -> 6, numOutputBytes -> 2611, numOutputRows -> 5}|        null|\n",
            "|      0|2021-09-10 12:54:10|           WRITE|                                                                                                     {mode -> ErrorIfExists, partitionBy -> []}|       null|                                                                                                                                                                                                                       {numFiles -> 6, numOutputBytes -> 2611, numOutputRows -> 5}|        null|\n",
            "+-------+-------------------+----------------+-----------------------------------------------------------------------------------------------------------------------------------------------+-----------+----------------------------------------------------------------------------------------------------------------------------------------------------------------------------------------------------------------------------------------------------------------------------------+------------+"
          ]
        }
      ],
      "execution_count": 20,
      "metadata": {}
    },
    {
      "cell_type": "code",
      "source": [
        "stream.stop()"
      ],
      "outputs": [
        {
          "output_type": "display_data",
          "data": {
            "application/vnd.livy.statement-meta+json": {
              "spark_pool": "threedot0",
              "session_id": 87,
              "statement_id": 21,
              "state": "finished",
              "livy_statement_state": "available",
              "queued_time": "2021-09-10T13:00:16.5255288Z",
              "session_start_time": null,
              "execution_start_time": "2021-09-10T13:00:16.6426499Z",
              "execution_finish_time": "2021-09-10T13:00:16.7872837Z"
            },
            "text/plain": "StatementMeta(threedot0, 87, 21, Finished, Available)"
          },
          "metadata": {}
        },
        {
          "output_type": "stream",
          "name": "stdout",
          "text": []
        }
      ],
      "execution_count": 21,
      "metadata": {}
    },
    {
      "cell_type": "code",
      "source": [
        "delta_table.history().drop(\"userId\", \"userName\", \"job\", \"notebook\", \"clusterId\", \"isolationLevel\", \"isBlindAppend\").show(100, 1000, False)"
      ],
      "outputs": [
        {
          "output_type": "display_data",
          "data": {
            "application/vnd.livy.statement-meta+json": {
              "spark_pool": "threedot0",
              "session_id": 87,
              "statement_id": 22,
              "state": "finished",
              "livy_statement_state": "available",
              "queued_time": "2021-09-10T13:00:21.7397002Z",
              "session_start_time": null,
              "execution_start_time": "2021-09-10T13:00:21.8498534Z",
              "execution_finish_time": "2021-09-10T13:00:22.913291Z"
            },
            "text/plain": "StatementMeta(threedot0, 87, 22, Finished, Available)"
          },
          "metadata": {}
        },
        {
          "output_type": "stream",
          "name": "stdout",
          "text": [
            "+-------+-------------------+----------------+-----------------------------------------------------------------------------------------------------------------------------------------------+-----------+----------------------------------------------------------------------------------------------------------------------------------------------------------------------------------------------------------------------------------------------------------------------------------+------------+\n",
            "|version|          timestamp|       operation|                                                                                                                            operationParameters|readVersion|                                                                                                                                                                                                                                                                  operationMetrics|userMetadata|\n",
            "+-------+-------------------+----------------+-----------------------------------------------------------------------------------------------------------------------------------------------+-----------+----------------------------------------------------------------------------------------------------------------------------------------------------------------------------------------------------------------------------------------------------------------------------------+------------+\n",
            "|     16|2021-09-10 13:00:14|STREAMING UPDATE|                                                         {outputMode -> Append, queryId -> 67c4fe72-3bc8-4785-8a30-771044ff3af3, epochId -> 11}|         15|                                                                                                                                                                                            {numRemovedFiles -> 0, numOutputRows -> 3, numOutputBytes -> 1389, numAddedFiles -> 3}|        null|\n",
            "|     15|2021-09-10 13:00:11|STREAMING UPDATE|                                                         {outputMode -> Append, queryId -> 67c4fe72-3bc8-4785-8a30-771044ff3af3, epochId -> 10}|         14|                                                                                                                                                                                            {numRemovedFiles -> 0, numOutputRows -> 3, numOutputBytes -> 1389, numAddedFiles -> 3}|        null|\n",
            "|     14|2021-09-10 13:00:08|STREAMING UPDATE|                                                          {outputMode -> Append, queryId -> 67c4fe72-3bc8-4785-8a30-771044ff3af3, epochId -> 9}|         13|                                                                                                                                                                                            {numRemovedFiles -> 0, numOutputRows -> 3, numOutputBytes -> 1389, numAddedFiles -> 3}|        null|\n",
            "|     13|2021-09-10 13:00:05|STREAMING UPDATE|                                                          {outputMode -> Append, queryId -> 67c4fe72-3bc8-4785-8a30-771044ff3af3, epochId -> 8}|         12|                                                                                                                                                                                            {numRemovedFiles -> 0, numOutputRows -> 3, numOutputBytes -> 1389, numAddedFiles -> 3}|        null|\n",
            "|     12|2021-09-10 13:00:02|STREAMING UPDATE|                                                          {outputMode -> Append, queryId -> 67c4fe72-3bc8-4785-8a30-771044ff3af3, epochId -> 7}|         11|                                                                                                                                                                                            {numRemovedFiles -> 0, numOutputRows -> 3, numOutputBytes -> 1389, numAddedFiles -> 3}|        null|\n",
            "|     11|2021-09-10 12:59:59|STREAMING UPDATE|                                                          {outputMode -> Append, queryId -> 67c4fe72-3bc8-4785-8a30-771044ff3af3, epochId -> 6}|         10|                                                                                                                                                                                            {numRemovedFiles -> 0, numOutputRows -> 4, numOutputBytes -> 1852, numAddedFiles -> 4}|        null|\n",
            "|     10|2021-09-10 12:59:55|STREAMING UPDATE|                                                          {outputMode -> Append, queryId -> 67c4fe72-3bc8-4785-8a30-771044ff3af3, epochId -> 5}|          9|                                                                                                                                                                                            {numRemovedFiles -> 0, numOutputRows -> 3, numOutputBytes -> 1389, numAddedFiles -> 3}|        null|\n",
            "|      9|2021-09-10 12:59:52|STREAMING UPDATE|                                                          {outputMode -> Append, queryId -> 67c4fe72-3bc8-4785-8a30-771044ff3af3, epochId -> 4}|          8|                                                                                                                                                                                             {numRemovedFiles -> 0, numOutputRows -> 2, numOutputBytes -> 926, numAddedFiles -> 2}|        null|\n",
            "|      8|2021-09-10 12:59:50|STREAMING UPDATE|                                                          {outputMode -> Append, queryId -> 67c4fe72-3bc8-4785-8a30-771044ff3af3, epochId -> 3}|          7|                                                                                                                                                                                             {numRemovedFiles -> 0, numOutputRows -> 2, numOutputBytes -> 926, numAddedFiles -> 2}|        null|\n",
            "|      7|2021-09-10 12:59:48|STREAMING UPDATE|                                                          {outputMode -> Append, queryId -> 67c4fe72-3bc8-4785-8a30-771044ff3af3, epochId -> 2}|          6|                                                                                                                                                                                            {numRemovedFiles -> 0, numOutputRows -> 3, numOutputBytes -> 1389, numAddedFiles -> 3}|        null|\n",
            "|      6|2021-09-10 12:59:45|STREAMING UPDATE|                                                          {outputMode -> Append, queryId -> 67c4fe72-3bc8-4785-8a30-771044ff3af3, epochId -> 1}|          5|                                                                                                                                                                                             {numRemovedFiles -> 0, numOutputRows -> 2, numOutputBytes -> 926, numAddedFiles -> 2}|        null|\n",
            "|      5|2021-09-10 12:59:43|STREAMING UPDATE|                                                          {outputMode -> Append, queryId -> 67c4fe72-3bc8-4785-8a30-771044ff3af3, epochId -> 0}|          4|                                                                                                                                                                                             {numRemovedFiles -> 0, numOutputRows -> 0, numOutputBytes -> 296, numAddedFiles -> 1}|        null|\n",
            "|      4|2021-09-10 12:58:21|           MERGE|{predicate -> (oldData.`id` = newData.`id`), matchedPredicates -> [{\"actionType\":\"update\"}], notMatchedPredicates -> [{\"actionType\":\"insert\"}]}|          3|{numTargetRowsCopied -> 0, numTargetRowsDeleted -> 0, numTargetFilesAdded -> 21, executionTimeMs -> 4212, numTargetRowsInserted -> 17, scanTimeMs -> 1736, numTargetRowsUpdated -> 3, numOutputRows -> 20, numSourceRows -> 20, numTargetFilesRemoved -> 3, rewriteTimeMs -> 2408}|        null|\n",
            "|      3|2021-09-10 12:58:10|          DELETE|                                                                                                          {predicate -> [\"((`id` % 2L) = 0L)\"]}|          2|                                                                                                                             {numRemovedFiles -> 2, numCopiedRows -> 0, executionTimeMs -> 1272, numDeletedRows -> 2, scanTimeMs -> 814, numAddedFiles -> 1, rewriteTimeMs -> 458}|        null|\n",
            "|      2|2021-09-10 12:57:59|          UPDATE|                                                                                                             {predicate -> ((id#902L % 2) = 0)}|          1|                                                                                                                            {numRemovedFiles -> 2, numCopiedRows -> 0, executionTimeMs -> 1969, scanTimeMs -> 1338, numAddedFiles -> 2, numUpdatedRows -> 2, rewriteTimeMs -> 631}|        null|\n",
            "|      1|2021-09-10 12:56:07|           WRITE|                                                                                                         {mode -> Overwrite, partitionBy -> []}|          0|                                                                                                                                                                                                                       {numFiles -> 6, numOutputBytes -> 2611, numOutputRows -> 5}|        null|\n",
            "|      0|2021-09-10 12:54:10|           WRITE|                                                                                                     {mode -> ErrorIfExists, partitionBy -> []}|       null|                                                                                                                                                                                                                       {numFiles -> 6, numOutputBytes -> 2611, numOutputRows -> 5}|        null|\n",
            "+-------+-------------------+----------------+-----------------------------------------------------------------------------------------------------------------------------------------------+-----------+----------------------------------------------------------------------------------------------------------------------------------------------------------------------------------------------------------------------------------------------------------------------------------+------------+"
          ]
        }
      ],
      "execution_count": 22,
      "metadata": {}
    },
    {
      "cell_type": "markdown",
      "source": [
        "## Compaction\n",
        "\n",
        "If a Delta Table is growing too large, you can compact it by repartitioning into a smaller number of files.\n",
        "\n",
        "The option `dataChange = false` is an optimization that tells Delta Lake to do the repartition without marking the underlying data as \"modified\". This ensures that any other concurrent operations (such as streaming reads/writes) aren't negatively impacted.\n"
      ],
      "metadata": {}
    },
    {
      "cell_type": "code",
      "source": [
        "partition_count = 2\n",
        "\n",
        "spark.read\\\n",
        "    .format(\"delta\")\\\n",
        "    .load(delta_table_path)\\\n",
        "    .repartition(partition_count)\\\n",
        "    .write.option(\"dataChange\", \"false\")\\\n",
        "    .format(\"delta\")\\\n",
        "    .mode(\"overwrite\")\\\n",
        "    .save(delta_table_path)    "
      ],
      "outputs": [
        {
          "output_type": "display_data",
          "data": {
            "application/vnd.livy.statement-meta+json": {
              "spark_pool": "threedot0",
              "session_id": 87,
              "statement_id": 23,
              "state": "finished",
              "livy_statement_state": "available",
              "queued_time": "2021-09-10T13:00:29.914718Z",
              "session_start_time": null,
              "execution_start_time": "2021-09-10T13:00:30.0196915Z",
              "execution_finish_time": "2021-09-10T13:00:33.9861677Z"
            },
            "text/plain": "StatementMeta(threedot0, 87, 23, Finished, Available)"
          },
          "metadata": {}
        },
        {
          "output_type": "stream",
          "name": "stdout",
          "text": []
        }
      ],
      "execution_count": 23,
      "metadata": {}
    },
    {
      "cell_type": "markdown",
      "source": [
        "## Convert Parquet to Delta\n",
        "You can do an in-place conversion from the Parquet format to Delta."
      ],
      "metadata": {}
    },
    {
      "cell_type": "code",
      "source": [
        "parquet_path = \"/parquet/parquet-table-{0}\".format(session_id)\n",
        "\n",
        "data = spark.range(0,5)\n",
        "data.write.parquet(parquet_path)\n",
        "\n",
        "# Confirm that the data isn't in the Delta format\n",
        "DeltaTable.isDeltaTable(spark, parquet_path)"
      ],
      "outputs": [
        {
          "output_type": "display_data",
          "data": {
            "application/vnd.livy.statement-meta+json": {
              "spark_pool": "threedot0",
              "session_id": 87,
              "statement_id": 24,
              "state": "finished",
              "livy_statement_state": "available",
              "queued_time": "2021-09-10T13:00:42.0607129Z",
              "session_start_time": null,
              "execution_start_time": "2021-09-10T13:00:42.1747743Z",
              "execution_finish_time": "2021-09-10T13:00:43.9885426Z"
            },
            "text/plain": "StatementMeta(threedot0, 87, 24, Finished, Available)"
          },
          "metadata": {}
        },
        {
          "output_type": "display_data",
          "data": {
            "text/plain": "False"
          },
          "metadata": {}
        },
        {
          "output_type": "execute_result",
          "execution_count": 24,
          "data": {},
          "metadata": {}
        }
      ],
      "execution_count": 24,
      "metadata": {}
    },
    {
      "cell_type": "code",
      "source": [
        "DeltaTable.convertToDelta(spark, \"parquet.`{0}`\".format(parquet_path))\n",
        "\n",
        "# Confirm that the converted data is now in the Delta format\n",
        "DeltaTable.isDeltaTable(spark, parquet_path)"
      ],
      "outputs": [
        {
          "output_type": "display_data",
          "data": {
            "application/vnd.livy.statement-meta+json": {
              "spark_pool": "threedot0",
              "session_id": 87,
              "statement_id": 25,
              "state": "finished",
              "livy_statement_state": "available",
              "queued_time": "2021-09-10T13:00:54.0264816Z",
              "session_start_time": null,
              "execution_start_time": "2021-09-10T13:00:54.1362721Z",
              "execution_finish_time": "2021-09-10T13:01:01.0173016Z"
            },
            "text/plain": "StatementMeta(threedot0, 87, 25, Finished, Available)"
          },
          "metadata": {}
        },
        {
          "output_type": "display_data",
          "data": {
            "text/plain": "True"
          },
          "metadata": {}
        },
        {
          "output_type": "execute_result",
          "execution_count": 25,
          "data": {},
          "metadata": {}
        }
      ],
      "execution_count": 25,
      "metadata": {}
    },
    {
      "cell_type": "markdown",
      "source": [
        "## SQL Support\n",
        "Delta supports table utility commands through SQL.  You can use SQL to:\n",
        "* Get a DeltaTable's history\n",
        "* Vacuum a DeltaTable\n",
        "* Convert a Parquet file to Delta\n"
      ],
      "metadata": {}
    },
    {
      "cell_type": "code",
      "source": [
        "spark.sql(\"DESCRIBE HISTORY delta.`{0}`\".format(delta_table_path)).show()"
      ],
      "outputs": [
        {
          "output_type": "display_data",
          "data": {
            "application/vnd.livy.statement-meta+json": {
              "spark_pool": "threedot0",
              "session_id": 87,
              "statement_id": 26,
              "state": "finished",
              "livy_statement_state": "available",
              "queued_time": "2021-09-10T13:01:39.3296711Z",
              "session_start_time": null,
              "execution_start_time": "2021-09-10T13:01:39.4312158Z",
              "execution_finish_time": "2021-09-10T13:01:40.4980018Z"
            },
            "text/plain": "StatementMeta(threedot0, 87, 26, Finished, Available)"
          },
          "metadata": {}
        },
        {
          "output_type": "stream",
          "name": "stdout",
          "text": [
            "+-------+-------------------+------+--------+----------------+--------------------+----+--------+---------+-----------+--------------+-------------+--------------------+------------+\n",
            "|version|          timestamp|userId|userName|       operation| operationParameters| job|notebook|clusterId|readVersion|isolationLevel|isBlindAppend|    operationMetrics|userMetadata|\n",
            "+-------+-------------------+------+--------+----------------+--------------------+----+--------+---------+-----------+--------------+-------------+--------------------+------------+\n",
            "|     17|2021-09-10 13:00:31|  null|    null|           WRITE|{mode -> Overwrit...|null|    null|     null|         16|          null|        false|{numFiles -> 2, n...|        null|\n",
            "|     16|2021-09-10 13:00:14|  null|    null|STREAMING UPDATE|{outputMode -> Ap...|null|    null|     null|         15|          null|         true|{numRemovedFiles ...|        null|\n",
            "|     15|2021-09-10 13:00:11|  null|    null|STREAMING UPDATE|{outputMode -> Ap...|null|    null|     null|         14|          null|         true|{numRemovedFiles ...|        null|\n",
            "|     14|2021-09-10 13:00:08|  null|    null|STREAMING UPDATE|{outputMode -> Ap...|null|    null|     null|         13|          null|         true|{numRemovedFiles ...|        null|\n",
            "|     13|2021-09-10 13:00:05|  null|    null|STREAMING UPDATE|{outputMode -> Ap...|null|    null|     null|         12|          null|         true|{numRemovedFiles ...|        null|\n",
            "|     12|2021-09-10 13:00:02|  null|    null|STREAMING UPDATE|{outputMode -> Ap...|null|    null|     null|         11|          null|         true|{numRemovedFiles ...|        null|\n",
            "|     11|2021-09-10 12:59:59|  null|    null|STREAMING UPDATE|{outputMode -> Ap...|null|    null|     null|         10|          null|         true|{numRemovedFiles ...|        null|\n",
            "|     10|2021-09-10 12:59:55|  null|    null|STREAMING UPDATE|{outputMode -> Ap...|null|    null|     null|          9|          null|         true|{numRemovedFiles ...|        null|\n",
            "|      9|2021-09-10 12:59:52|  null|    null|STREAMING UPDATE|{outputMode -> Ap...|null|    null|     null|          8|          null|         true|{numRemovedFiles ...|        null|\n",
            "|      8|2021-09-10 12:59:50|  null|    null|STREAMING UPDATE|{outputMode -> Ap...|null|    null|     null|          7|          null|         true|{numRemovedFiles ...|        null|\n",
            "|      7|2021-09-10 12:59:48|  null|    null|STREAMING UPDATE|{outputMode -> Ap...|null|    null|     null|          6|          null|         true|{numRemovedFiles ...|        null|\n",
            "|      6|2021-09-10 12:59:45|  null|    null|STREAMING UPDATE|{outputMode -> Ap...|null|    null|     null|          5|          null|         true|{numRemovedFiles ...|        null|\n",
            "|      5|2021-09-10 12:59:43|  null|    null|STREAMING UPDATE|{outputMode -> Ap...|null|    null|     null|          4|          null|         true|{numRemovedFiles ...|        null|\n",
            "|      4|2021-09-10 12:58:21|  null|    null|           MERGE|{predicate -> (ol...|null|    null|     null|          3|          null|        false|{numTargetRowsCop...|        null|\n",
            "|      3|2021-09-10 12:58:10|  null|    null|          DELETE|{predicate -> [\"(...|null|    null|     null|          2|          null|        false|{numRemovedFiles ...|        null|\n",
            "|      2|2021-09-10 12:57:59|  null|    null|          UPDATE|{predicate -> ((i...|null|    null|     null|          1|          null|        false|{numRemovedFiles ...|        null|\n",
            "|      1|2021-09-10 12:56:07|  null|    null|           WRITE|{mode -> Overwrit...|null|    null|     null|          0|          null|        false|{numFiles -> 6, n...|        null|\n",
            "|      0|2021-09-10 12:54:10|  null|    null|           WRITE|{mode -> ErrorIfE...|null|    null|     null|       null|          null|         true|{numFiles -> 6, n...|        null|\n",
            "+-------+-------------------+------+--------+----------------+--------------------+----+--------+---------+-----------+--------------+-------------+--------------------+------------+"
          ]
        }
      ],
      "execution_count": 26,
      "metadata": {}
    },
    {
      "cell_type": "code",
      "source": [
        "spark.sql(\"VACUUM delta.`{0}`\".format(delta_table_path)).show(10, 1000, False)"
      ],
      "outputs": [
        {
          "output_type": "display_data",
          "data": {
            "application/vnd.livy.statement-meta+json": {
              "spark_pool": "threedot0",
              "session_id": 87,
              "statement_id": 37,
              "state": "finished",
              "livy_statement_state": "available",
              "queued_time": "2021-09-10T13:04:16.5332689Z",
              "session_start_time": null,
              "execution_start_time": "2021-09-10T13:04:16.6425211Z",
              "execution_finish_time": "2021-09-10T13:04:18.4970118Z"
            },
            "text/plain": "StatementMeta(threedot0, 87, 37, Finished, Available)"
          },
          "metadata": {}
        },
        {
          "output_type": "stream",
          "name": "stdout",
          "text": [
            "+-------------------------------------------------------------------------------------------------+\n",
            "|                                                                                             path|\n",
            "+-------------------------------------------------------------------------------------------------+\n",
            "|abfss://wplushiramsynapsefs@wplushiramsynapseadlsv2.dfs.core.windows.net/delta/delta-table-416277|\n",
            "+-------------------------------------------------------------------------------------------------+"
          ]
        }
      ],
      "execution_count": 37,
      "metadata": {}
    },
    {
      "cell_type": "code",
      "source": [
        "parquet_id = random.randint(0,1000)\n",
        "parquet_path = \"/parquet/parquet-table-{0}-{1}\".format(session_id, parquet_path)\n",
        "\n",
        "data = spark.range(0,5)\n",
        "data.write.parquet(parquet_path)\n",
        "\n",
        "# Confirm that the data isn't in the Delta format\n",
        "DeltaTable.isDeltaTable(spark, parquet_path)\n",
        "\n",
        "# Use SQL to convert the parquet table to Delta\n",
        "spark.sql(\"CONVERT TO DELTA parquet.`{0}`\".format(parquet_path))\n",
        "\n",
        "DeltaTable.isDeltaTable(spark, parquet_path)"
      ],
      "outputs": [
        {
          "output_type": "display_data",
          "data": {
            "application/vnd.livy.statement-meta+json": {
              "spark_pool": "threedot0",
              "session_id": 87,
              "statement_id": 38,
              "state": "finished",
              "livy_statement_state": "available",
              "queued_time": "2021-09-10T13:04:26.6521675Z",
              "session_start_time": null,
              "execution_start_time": "2021-09-10T13:04:26.7645135Z",
              "execution_finish_time": "2021-09-10T13:04:33.6684136Z"
            },
            "text/plain": "StatementMeta(threedot0, 87, 38, Finished, Available)"
          },
          "metadata": {}
        },
        {
          "output_type": "display_data",
          "data": {
            "text/plain": "True"
          },
          "metadata": {}
        },
        {
          "output_type": "execute_result",
          "execution_count": 38,
          "data": {},
          "metadata": {}
        }
      ],
      "execution_count": 38,
      "metadata": {}
    }
  ],
  "metadata": {
    "kernelspec": {
      "name": "synapse_pyspark",
      "language": "Python",
      "display_name": "Synapse PySpark"
    },
    "language_info": {
      "name": "python"
    },
    "kernel_info": {
      "name": "synapse_pyspark"
    },
    "save_output": true,
    "synapse_widget": {
      "version": "0.1",
      "state": {}
    }
  },
  "nbformat": 4,
  "nbformat_minor": 2
}